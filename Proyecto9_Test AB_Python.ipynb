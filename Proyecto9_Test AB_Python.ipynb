{
 "cells": [
  {
   "cell_type": "markdown",
   "metadata": {},
   "source": [
    "Descripción del Proyecto: Soy analista en una gran tienda en línea. Junto con el departamento de marketing hemos recopilado una lista de hipótesis que pueden ayudar a aumentar los ingresos. \n",
    "Tengo que priorizar estas hipótesis, lanzar un test A/B y analizar los resultados."
   ]
  },
  {
   "cell_type": "code",
   "execution_count": 70,
   "metadata": {},
   "outputs": [],
   "source": [
    "import pandas as pd\n",
    "from matplotlib import pyplot as plt\n",
    "import seaborn as sns\n",
    "from dateutil.relativedelta import relativedelta\n",
    "from scipy import stats as st\n",
    "import numpy as np\n",
    "import math as mth\n",
    "import datetime as dt\n",
    "import scipy.stats as stats"
   ]
  },
  {
   "cell_type": "code",
   "execution_count": 71,
   "metadata": {},
   "outputs": [],
   "source": [
    "hypotheses_data = pd.read_csv('/datasets/hypotheses_us.csv', delimiter=';')\n",
    "orders_data = pd.read_csv('/datasets/orders_us.csv')\n",
    "visits_data = pd.read_csv('/datasets/visits_us.csv')"
   ]
  },
  {
   "cell_type": "code",
   "execution_count": 72,
   "metadata": {},
   "outputs": [
    {
     "name": "stdout",
     "output_type": "stream",
     "text": [
      "<class 'pandas.core.frame.DataFrame'>\n",
      "RangeIndex: 9 entries, 0 to 8\n",
      "Data columns (total 5 columns):\n",
      " #   Column      Non-Null Count  Dtype \n",
      "---  ------      --------------  ----- \n",
      " 0   Hypothesis  9 non-null      object\n",
      " 1   Reach       9 non-null      int64 \n",
      " 2   Impact      9 non-null      int64 \n",
      " 3   Confidence  9 non-null      int64 \n",
      " 4   Effort      9 non-null      int64 \n",
      "dtypes: int64(4), object(1)\n",
      "memory usage: 488.0+ bytes\n",
      "None\n"
     ]
    },
    {
     "data": {
      "text/html": [
       "<div>\n",
       "<style scoped>\n",
       "    .dataframe tbody tr th:only-of-type {\n",
       "        vertical-align: middle;\n",
       "    }\n",
       "\n",
       "    .dataframe tbody tr th {\n",
       "        vertical-align: top;\n",
       "    }\n",
       "\n",
       "    .dataframe thead th {\n",
       "        text-align: right;\n",
       "    }\n",
       "</style>\n",
       "<table border=\"1\" class=\"dataframe\">\n",
       "  <thead>\n",
       "    <tr style=\"text-align: right;\">\n",
       "      <th></th>\n",
       "      <th>Hypothesis</th>\n",
       "      <th>Reach</th>\n",
       "      <th>Impact</th>\n",
       "      <th>Confidence</th>\n",
       "      <th>Effort</th>\n",
       "    </tr>\n",
       "  </thead>\n",
       "  <tbody>\n",
       "    <tr>\n",
       "      <th>0</th>\n",
       "      <td>Add two new channels for attracting traffic. T...</td>\n",
       "      <td>3</td>\n",
       "      <td>10</td>\n",
       "      <td>8</td>\n",
       "      <td>6</td>\n",
       "    </tr>\n",
       "    <tr>\n",
       "      <th>1</th>\n",
       "      <td>Launch your own delivery service. This will sh...</td>\n",
       "      <td>2</td>\n",
       "      <td>5</td>\n",
       "      <td>4</td>\n",
       "      <td>10</td>\n",
       "    </tr>\n",
       "    <tr>\n",
       "      <th>2</th>\n",
       "      <td>Add product recommendation blocks to the store...</td>\n",
       "      <td>8</td>\n",
       "      <td>3</td>\n",
       "      <td>7</td>\n",
       "      <td>3</td>\n",
       "    </tr>\n",
       "    <tr>\n",
       "      <th>3</th>\n",
       "      <td>Change the category structure. This will incre...</td>\n",
       "      <td>8</td>\n",
       "      <td>3</td>\n",
       "      <td>3</td>\n",
       "      <td>8</td>\n",
       "    </tr>\n",
       "    <tr>\n",
       "      <th>4</th>\n",
       "      <td>Change the background color on the main page. ...</td>\n",
       "      <td>3</td>\n",
       "      <td>1</td>\n",
       "      <td>1</td>\n",
       "      <td>1</td>\n",
       "    </tr>\n",
       "    <tr>\n",
       "      <th>5</th>\n",
       "      <td>Add a customer review page. This will increase...</td>\n",
       "      <td>3</td>\n",
       "      <td>2</td>\n",
       "      <td>2</td>\n",
       "      <td>3</td>\n",
       "    </tr>\n",
       "    <tr>\n",
       "      <th>6</th>\n",
       "      <td>Show banners with current offers and sales on ...</td>\n",
       "      <td>5</td>\n",
       "      <td>3</td>\n",
       "      <td>8</td>\n",
       "      <td>3</td>\n",
       "    </tr>\n",
       "    <tr>\n",
       "      <th>7</th>\n",
       "      <td>Add a subscription form to all the main pages....</td>\n",
       "      <td>10</td>\n",
       "      <td>7</td>\n",
       "      <td>8</td>\n",
       "      <td>5</td>\n",
       "    </tr>\n",
       "    <tr>\n",
       "      <th>8</th>\n",
       "      <td>Launch a promotion that gives users discounts ...</td>\n",
       "      <td>1</td>\n",
       "      <td>9</td>\n",
       "      <td>9</td>\n",
       "      <td>5</td>\n",
       "    </tr>\n",
       "  </tbody>\n",
       "</table>\n",
       "</div>"
      ],
      "text/plain": [
       "                                          Hypothesis  Reach  Impact  \\\n",
       "0  Add two new channels for attracting traffic. T...      3      10   \n",
       "1  Launch your own delivery service. This will sh...      2       5   \n",
       "2  Add product recommendation blocks to the store...      8       3   \n",
       "3  Change the category structure. This will incre...      8       3   \n",
       "4  Change the background color on the main page. ...      3       1   \n",
       "5  Add a customer review page. This will increase...      3       2   \n",
       "6  Show banners with current offers and sales on ...      5       3   \n",
       "7  Add a subscription form to all the main pages....     10       7   \n",
       "8  Launch a promotion that gives users discounts ...      1       9   \n",
       "\n",
       "   Confidence  Effort  \n",
       "0           8       6  \n",
       "1           4      10  \n",
       "2           7       3  \n",
       "3           3       8  \n",
       "4           1       1  \n",
       "5           2       3  \n",
       "6           8       3  \n",
       "7           8       5  \n",
       "8           9       5  "
      ]
     },
     "execution_count": 72,
     "metadata": {},
     "output_type": "execute_result"
    }
   ],
   "source": [
    "#Revisión de datos\n",
    "\n",
    "print(hypotheses_data.info())\n",
    "hypotheses_data"
   ]
  },
  {
   "cell_type": "code",
   "execution_count": 73,
   "metadata": {
    "scrolled": false
   },
   "outputs": [
    {
     "name": "stdout",
     "output_type": "stream",
     "text": [
      "<class 'pandas.core.frame.DataFrame'>\n",
      "RangeIndex: 1197 entries, 0 to 1196\n",
      "Data columns (total 5 columns):\n",
      " #   Column         Non-Null Count  Dtype  \n",
      "---  ------         --------------  -----  \n",
      " 0   transactionId  1197 non-null   int64  \n",
      " 1   visitorId      1197 non-null   int64  \n",
      " 2   date           1197 non-null   object \n",
      " 3   revenue        1197 non-null   float64\n",
      " 4   group          1197 non-null   object \n",
      "dtypes: float64(1), int64(2), object(2)\n",
      "memory usage: 46.9+ KB\n",
      "None\n"
     ]
    },
    {
     "data": {
      "text/html": [
       "<div>\n",
       "<style scoped>\n",
       "    .dataframe tbody tr th:only-of-type {\n",
       "        vertical-align: middle;\n",
       "    }\n",
       "\n",
       "    .dataframe tbody tr th {\n",
       "        vertical-align: top;\n",
       "    }\n",
       "\n",
       "    .dataframe thead th {\n",
       "        text-align: right;\n",
       "    }\n",
       "</style>\n",
       "<table border=\"1\" class=\"dataframe\">\n",
       "  <thead>\n",
       "    <tr style=\"text-align: right;\">\n",
       "      <th></th>\n",
       "      <th>transactionId</th>\n",
       "      <th>visitorId</th>\n",
       "      <th>date</th>\n",
       "      <th>revenue</th>\n",
       "      <th>group</th>\n",
       "    </tr>\n",
       "  </thead>\n",
       "  <tbody>\n",
       "    <tr>\n",
       "      <th>0</th>\n",
       "      <td>3667963787</td>\n",
       "      <td>3312258926</td>\n",
       "      <td>2019-08-15</td>\n",
       "      <td>30.4</td>\n",
       "      <td>B</td>\n",
       "    </tr>\n",
       "    <tr>\n",
       "      <th>1</th>\n",
       "      <td>2804400009</td>\n",
       "      <td>3642806036</td>\n",
       "      <td>2019-08-15</td>\n",
       "      <td>15.2</td>\n",
       "      <td>B</td>\n",
       "    </tr>\n",
       "    <tr>\n",
       "      <th>2</th>\n",
       "      <td>2961555356</td>\n",
       "      <td>4069496402</td>\n",
       "      <td>2019-08-15</td>\n",
       "      <td>10.2</td>\n",
       "      <td>A</td>\n",
       "    </tr>\n",
       "    <tr>\n",
       "      <th>3</th>\n",
       "      <td>3797467345</td>\n",
       "      <td>1196621759</td>\n",
       "      <td>2019-08-15</td>\n",
       "      <td>155.1</td>\n",
       "      <td>B</td>\n",
       "    </tr>\n",
       "    <tr>\n",
       "      <th>4</th>\n",
       "      <td>2282983706</td>\n",
       "      <td>2322279887</td>\n",
       "      <td>2019-08-15</td>\n",
       "      <td>40.5</td>\n",
       "      <td>B</td>\n",
       "    </tr>\n",
       "    <tr>\n",
       "      <th>...</th>\n",
       "      <td>...</td>\n",
       "      <td>...</td>\n",
       "      <td>...</td>\n",
       "      <td>...</td>\n",
       "      <td>...</td>\n",
       "    </tr>\n",
       "    <tr>\n",
       "      <th>1192</th>\n",
       "      <td>2662137336</td>\n",
       "      <td>3733762160</td>\n",
       "      <td>2019-08-14</td>\n",
       "      <td>100.8</td>\n",
       "      <td>B</td>\n",
       "    </tr>\n",
       "    <tr>\n",
       "      <th>1193</th>\n",
       "      <td>2203539145</td>\n",
       "      <td>370388673</td>\n",
       "      <td>2019-08-14</td>\n",
       "      <td>50.1</td>\n",
       "      <td>A</td>\n",
       "    </tr>\n",
       "    <tr>\n",
       "      <th>1194</th>\n",
       "      <td>1807773912</td>\n",
       "      <td>573423106</td>\n",
       "      <td>2019-08-14</td>\n",
       "      <td>165.3</td>\n",
       "      <td>A</td>\n",
       "    </tr>\n",
       "    <tr>\n",
       "      <th>1195</th>\n",
       "      <td>1947021204</td>\n",
       "      <td>1614305549</td>\n",
       "      <td>2019-08-14</td>\n",
       "      <td>5.5</td>\n",
       "      <td>A</td>\n",
       "    </tr>\n",
       "    <tr>\n",
       "      <th>1196</th>\n",
       "      <td>3936777065</td>\n",
       "      <td>2108080724</td>\n",
       "      <td>2019-08-15</td>\n",
       "      <td>3120.1</td>\n",
       "      <td>B</td>\n",
       "    </tr>\n",
       "  </tbody>\n",
       "</table>\n",
       "<p>1197 rows × 5 columns</p>\n",
       "</div>"
      ],
      "text/plain": [
       "      transactionId   visitorId        date  revenue group\n",
       "0        3667963787  3312258926  2019-08-15     30.4     B\n",
       "1        2804400009  3642806036  2019-08-15     15.2     B\n",
       "2        2961555356  4069496402  2019-08-15     10.2     A\n",
       "3        3797467345  1196621759  2019-08-15    155.1     B\n",
       "4        2282983706  2322279887  2019-08-15     40.5     B\n",
       "...             ...         ...         ...      ...   ...\n",
       "1192     2662137336  3733762160  2019-08-14    100.8     B\n",
       "1193     2203539145   370388673  2019-08-14     50.1     A\n",
       "1194     1807773912   573423106  2019-08-14    165.3     A\n",
       "1195     1947021204  1614305549  2019-08-14      5.5     A\n",
       "1196     3936777065  2108080724  2019-08-15   3120.1     B\n",
       "\n",
       "[1197 rows x 5 columns]"
      ]
     },
     "execution_count": 73,
     "metadata": {},
     "output_type": "execute_result"
    }
   ],
   "source": [
    "print(orders_data.info())\n",
    "orders_data"
   ]
  },
  {
   "cell_type": "code",
   "execution_count": 74,
   "metadata": {
    "scrolled": false
   },
   "outputs": [
    {
     "name": "stdout",
     "output_type": "stream",
     "text": [
      "<class 'pandas.core.frame.DataFrame'>\n",
      "RangeIndex: 62 entries, 0 to 61\n",
      "Data columns (total 3 columns):\n",
      " #   Column  Non-Null Count  Dtype \n",
      "---  ------  --------------  ----- \n",
      " 0   date    62 non-null     object\n",
      " 1   group   62 non-null     object\n",
      " 2   visits  62 non-null     int64 \n",
      "dtypes: int64(1), object(2)\n",
      "memory usage: 1.6+ KB\n",
      "None\n"
     ]
    },
    {
     "data": {
      "text/html": [
       "<div>\n",
       "<style scoped>\n",
       "    .dataframe tbody tr th:only-of-type {\n",
       "        vertical-align: middle;\n",
       "    }\n",
       "\n",
       "    .dataframe tbody tr th {\n",
       "        vertical-align: top;\n",
       "    }\n",
       "\n",
       "    .dataframe thead th {\n",
       "        text-align: right;\n",
       "    }\n",
       "</style>\n",
       "<table border=\"1\" class=\"dataframe\">\n",
       "  <thead>\n",
       "    <tr style=\"text-align: right;\">\n",
       "      <th></th>\n",
       "      <th>date</th>\n",
       "      <th>group</th>\n",
       "      <th>visits</th>\n",
       "    </tr>\n",
       "  </thead>\n",
       "  <tbody>\n",
       "    <tr>\n",
       "      <th>0</th>\n",
       "      <td>2019-08-01</td>\n",
       "      <td>A</td>\n",
       "      <td>719</td>\n",
       "    </tr>\n",
       "    <tr>\n",
       "      <th>1</th>\n",
       "      <td>2019-08-02</td>\n",
       "      <td>A</td>\n",
       "      <td>619</td>\n",
       "    </tr>\n",
       "    <tr>\n",
       "      <th>2</th>\n",
       "      <td>2019-08-03</td>\n",
       "      <td>A</td>\n",
       "      <td>507</td>\n",
       "    </tr>\n",
       "    <tr>\n",
       "      <th>3</th>\n",
       "      <td>2019-08-04</td>\n",
       "      <td>A</td>\n",
       "      <td>717</td>\n",
       "    </tr>\n",
       "    <tr>\n",
       "      <th>4</th>\n",
       "      <td>2019-08-05</td>\n",
       "      <td>A</td>\n",
       "      <td>756</td>\n",
       "    </tr>\n",
       "    <tr>\n",
       "      <th>...</th>\n",
       "      <td>...</td>\n",
       "      <td>...</td>\n",
       "      <td>...</td>\n",
       "    </tr>\n",
       "    <tr>\n",
       "      <th>57</th>\n",
       "      <td>2019-08-27</td>\n",
       "      <td>B</td>\n",
       "      <td>720</td>\n",
       "    </tr>\n",
       "    <tr>\n",
       "      <th>58</th>\n",
       "      <td>2019-08-28</td>\n",
       "      <td>B</td>\n",
       "      <td>654</td>\n",
       "    </tr>\n",
       "    <tr>\n",
       "      <th>59</th>\n",
       "      <td>2019-08-29</td>\n",
       "      <td>B</td>\n",
       "      <td>531</td>\n",
       "    </tr>\n",
       "    <tr>\n",
       "      <th>60</th>\n",
       "      <td>2019-08-30</td>\n",
       "      <td>B</td>\n",
       "      <td>490</td>\n",
       "    </tr>\n",
       "    <tr>\n",
       "      <th>61</th>\n",
       "      <td>2019-08-31</td>\n",
       "      <td>B</td>\n",
       "      <td>718</td>\n",
       "    </tr>\n",
       "  </tbody>\n",
       "</table>\n",
       "<p>62 rows × 3 columns</p>\n",
       "</div>"
      ],
      "text/plain": [
       "          date group  visits\n",
       "0   2019-08-01     A     719\n",
       "1   2019-08-02     A     619\n",
       "2   2019-08-03     A     507\n",
       "3   2019-08-04     A     717\n",
       "4   2019-08-05     A     756\n",
       "..         ...   ...     ...\n",
       "57  2019-08-27     B     720\n",
       "58  2019-08-28     B     654\n",
       "59  2019-08-29     B     531\n",
       "60  2019-08-30     B     490\n",
       "61  2019-08-31     B     718\n",
       "\n",
       "[62 rows x 3 columns]"
      ]
     },
     "execution_count": 74,
     "metadata": {},
     "output_type": "execute_result"
    }
   ],
   "source": [
    "print(visits_data.info())\n",
    "visits_data"
   ]
  },
  {
   "cell_type": "code",
   "execution_count": 75,
   "metadata": {},
   "outputs": [],
   "source": [
    "#Le damos el tipo de datos correctos a las columnas del dataset 'hypotheses_data'\n",
    "hypotheses_data['Reach'] = hypotheses_data['Reach'].astype(int)\n",
    "hypotheses_data['Impact'] = hypotheses_data['Impact'].astype(int)\n",
    "hypotheses_data['Confidence'] = hypotheses_data['Confidence'].astype(float)\n",
    "hypotheses_data['Effort'] = hypotheses_data['Effort'].astype(float)"
   ]
  },
  {
   "cell_type": "markdown",
   "metadata": {},
   "source": [
    "Vamos a limpiar y verificar los datos para asegurarnos de que no hayan errores en los datasets."
   ]
  },
  {
   "cell_type": "code",
   "execution_count": 76,
   "metadata": {},
   "outputs": [],
   "source": [
    "# Procesando datos de orders_data\n",
    "orders_data['date'] = pd.to_datetime(orders_data['date'], format='%Y-%m-%d')\n",
    "orders_data = orders_data.drop_duplicates()"
   ]
  },
  {
   "cell_type": "code",
   "execution_count": 77,
   "metadata": {
    "scrolled": false
   },
   "outputs": [
    {
     "name": "stdout",
     "output_type": "stream",
     "text": [
      "visitorId\n",
      "5114589     1\n",
      "6958315     1\n",
      "8300375     2\n",
      "11685486    1\n",
      "39475350    1\n",
      "47206413    1\n",
      "48147722    1\n",
      "54447517    1\n",
      "56960363    1\n",
      "66685450    1\n",
      "Name: group, dtype: int64\n"
     ]
    }
   ],
   "source": [
    "# Nos aseguramos que la columna 'visitorId' esté en un solo grupo\n",
    "visitors_group_counts = orders_data.groupby('visitorId')['group'].nunique()\n",
    "print(visitors_group_counts.head(10))"
   ]
  },
  {
   "cell_type": "code",
   "execution_count": 78,
   "metadata": {
    "scrolled": true
   },
   "outputs": [
    {
     "data": {
      "text/plain": [
       "Int64Index([   8300375,  199603092,  232979603,  237748145,  276558944,\n",
       "             351125977,  393266494,  457167155,  471551937,  477780734,\n",
       "             818047933,  963407295, 1230306981, 1294878855, 1316129916,\n",
       "            1333886533, 1404934699, 1602967004, 1614305549, 1648269707,\n",
       "            1668030113, 1738359350, 1801183820, 1959144690, 2038680547,\n",
       "            2044997962, 2378935119, 2458001652, 2579882178, 2587333274,\n",
       "            2600415354, 2654030115, 2686716486, 2712142231, 2716752286,\n",
       "            2780786433, 2927087541, 2949041841, 2954449915, 3062433592,\n",
       "            3202540741, 3234906277, 3656415546, 3717692402, 3766097110,\n",
       "            3803269165, 3891541246, 3941795274, 3951559397, 3957174400,\n",
       "            3963646447, 3972127743, 3984495233, 4069496402, 4120364173,\n",
       "            4186807279, 4256040402, 4266935830],\n",
       "           dtype='int64', name='visitorId')"
      ]
     },
     "execution_count": 78,
     "metadata": {},
     "output_type": "execute_result"
    }
   ],
   "source": [
    "visitors_multiple_groups = visitors_group_counts[visitors_group_counts > 1].index\n",
    "visitors_multiple_groups"
   ]
  },
  {
   "cell_type": "code",
   "execution_count": 79,
   "metadata": {
    "scrolled": true
   },
   "outputs": [
    {
     "name": "stdout",
     "output_type": "stream",
     "text": [
      "visitorId\n",
      "5114589       1\n",
      "6958315       1\n",
      "11685486      1\n",
      "39475350      1\n",
      "47206413      1\n",
      "             ..\n",
      "4259830713    1\n",
      "4278982564    1\n",
      "4279090005    1\n",
      "4281247801    1\n",
      "4283872382    1\n",
      "Name: group, Length: 973, dtype: int64\n"
     ]
    }
   ],
   "source": [
    "# Eliminamos los visitantes que estan en los 2 grupos\n",
    "orders_data = orders_data[~orders_data['visitorId'].isin(visitors_multiple_groups)]\n",
    "\n",
    "#Verificamos nuevamente\n",
    "visitors_group_counts2 = orders_data.groupby('visitorId')['group'].nunique()\n",
    "print(visitors_group_counts2)"
   ]
  },
  {
   "cell_type": "markdown",
   "metadata": {},
   "source": [
    "Ahora podemos verificar que cada 'visitorId' pertenece solo a un grupo"
   ]
  },
  {
   "cell_type": "code",
   "execution_count": 80,
   "metadata": {},
   "outputs": [],
   "source": [
    "# Procesamos el dataset visit_data\n",
    "visits_data['date'] = pd.to_datetime(visits_data['date'], format='%Y-%m-%d')\n",
    "visits_data = visits_data.drop_duplicates()"
   ]
  },
  {
   "cell_type": "markdown",
   "metadata": {},
   "source": [
    "## Parte 1"
   ]
  },
  {
   "cell_type": "markdown",
   "metadata": {},
   "source": [
    "Hemos revisado que el archivo hypotheses_us.csv contiene nueve hipótesis sobre cómo aumentar los ingresos de una tienda en línea con Reach, Impact, Confidence y Effort especificados para cada una."
   ]
  },
  {
   "cell_type": "markdown",
   "metadata": {},
   "source": [
    "1.0 Aplicar el framework ICE para priorizar hipótesis. Ordenarlas en orden descendente de prioridad."
   ]
  },
  {
   "cell_type": "code",
   "execution_count": 81,
   "metadata": {},
   "outputs": [
    {
     "name": "stdout",
     "output_type": "stream",
     "text": [
      "                                          Hypothesis        ICE\n",
      "8  Launch a promotion that gives users discounts ...  16.200000\n",
      "0  Add two new channels for attracting traffic. T...  13.333333\n",
      "7  Add a subscription form to all the main pages....  11.200000\n",
      "6  Show banners with current offers and sales on ...   8.000000\n",
      "2  Add product recommendation blocks to the store...   7.000000\n",
      "1  Launch your own delivery service. This will sh...   2.000000\n",
      "5  Add a customer review page. This will increase...   1.333333\n",
      "3  Change the category structure. This will incre...   1.125000\n",
      "4  Change the background color on the main page. ...   1.000000\n"
     ]
    }
   ],
   "source": [
    "hypotheses_data['ICE'] = (hypotheses_data['Impact'] * hypotheses_data['Confidence']) / hypotheses_data['Effort']\n",
    "print(hypotheses_data[['Hypothesis', 'ICE']].sort_values(by='ICE', ascending=False))"
   ]
  },
  {
   "cell_type": "markdown",
   "metadata": {},
   "source": [
    "El ICE representa la hipótesis 8, 0 y 7 como las más prometedoras."
   ]
  },
  {
   "cell_type": "markdown",
   "metadata": {},
   "source": [
    "1.1 Aplicar el framework RICE para priorizar hipótesis. Ordenarlas en orden descendente de prioridad."
   ]
  },
  {
   "cell_type": "code",
   "execution_count": 82,
   "metadata": {},
   "outputs": [
    {
     "name": "stdout",
     "output_type": "stream",
     "text": [
      "                                          Hypothesis   RICE\n",
      "7  Add a subscription form to all the main pages....  112.0\n",
      "2  Add product recommendation blocks to the store...   56.0\n",
      "0  Add two new channels for attracting traffic. T...   40.0\n",
      "6  Show banners with current offers and sales on ...   40.0\n",
      "8  Launch a promotion that gives users discounts ...   16.2\n",
      "3  Change the category structure. This will incre...    9.0\n",
      "1  Launch your own delivery service. This will sh...    4.0\n",
      "5  Add a customer review page. This will increase...    4.0\n",
      "4  Change the background color on the main page. ...    3.0\n"
     ]
    }
   ],
   "source": [
    "hypotheses_data['RICE'] = (hypotheses_data['Reach'] * hypotheses_data['Impact'] * hypotheses_data['Confidence']) / (hypotheses_data['Effort'])\n",
    "print(hypotheses_data[['Hypothesis', 'RICE']].sort_values(by='RICE', ascending=False))"
   ]
  },
  {
   "cell_type": "markdown",
   "metadata": {},
   "source": [
    "El RICE represneta que tenemos como hipótesis mas prometedoras: 7, 2 y 0. Se vuelven a repetir la 7 y 0. "
   ]
  },
  {
   "cell_type": "markdown",
   "metadata": {},
   "source": [
    "1.3 Mostrar cómo cambia la priorización de hipótesis cuando utilizas RICE en lugar de ICE. Proporcionar una explicación de los cambios."
   ]
  },
  {
   "cell_type": "code",
   "execution_count": 83,
   "metadata": {},
   "outputs": [
    {
     "data": {
      "image/png": "[encoded data removed]",
      "text/plain": [
       "<Figure size 1000x1200 with 2 Axes>"
      ]
     },
     "metadata": {},
     "output_type": "display_data"
    }
   ],
   "source": [
    "#Les damos valores a los cálculos realizados para poder utilizar variables\n",
    "ice_sorted = hypotheses_data[['Hypothesis', 'ICE']].sort_values(by='ICE', ascending=False)\n",
    "rice_sorted = hypotheses_data[['Hypothesis', 'RICE']].sort_values(by='RICE', ascending=False)\n",
    "\n",
    "# Mostraremos los gráfico de ICE Y RICE para ver las diferencias.\n",
    "fig, axes = plt.subplots(nrows=2, ncols=1, figsize=(10, 12))\n",
    "\n",
    "#Vamos a Invertir los ejes 'y' de cada gráfico para mostrar el valor en la parte superior y \n",
    "#para que el nombre de cada hipótesis pueda ser leido con mayor facilidad\n",
    "\n",
    "# Gráfico para ICE\n",
    "axes[0].barh(ice_sorted['Hypothesis'], ice_sorted['ICE'], color='blue')\n",
    "axes[0].set_title('Prioridad de Hipótesis para ICE')\n",
    "axes[0].set_xlabel('ICE Score')\n",
    "axes[0].invert_yaxis()  # Invertimos el eje y para mostrar el valor más alto arriba\n",
    "\n",
    "#Gráfico para RICE\n",
    "axes[1].barh(rice_sorted['Hypothesis'], rice_sorted['RICE'], color='green')\n",
    "axes[1].set_title('Prioridad de Hipótesis para RICE')\n",
    "axes[1].set_xlabel('RICE Score')\n",
    "axes[1].invert_yaxis()  # Invertimos el eje y para mostrar el valor más alto arriba\n",
    "\n",
    "plt.tight_layout()\n",
    "plt.show()"
   ]
  },
  {
   "cell_type": "markdown",
   "metadata": {},
   "source": [
    "ICE: Calcula la prioridad de una hipótesis considerando únicamente el 'Impact',  'Confidence' y 'Effort'. Esto quiere decir que se enfoca más en la efectividad que la hipótesis puede analizar y la confianza en ella."
   ]
  },
  {
   "cell_type": "markdown",
   "metadata": {},
   "source": [
    "RICE: Incluye 'Reach' en el cálculo, lo que significa que también considera cuántas personas serán impactadas por la hipótesis. Esto puede hacer que una hipótesis con un mayor alcance suba en la priorización."
   ]
  },
  {
   "cell_type": "markdown",
   "metadata": {},
   "source": [
    "## Parte 2:  Análisis de test A/B"
   ]
  },
  {
   "cell_type": "markdown",
   "metadata": {},
   "source": [
    "1. Representa gráficamente el ingreso acumulado por grupo. Haz conclusiones y conjeturas."
   ]
  },
  {
   "cell_type": "code",
   "execution_count": 112,
   "metadata": {
    "scrolled": true
   },
   "outputs": [
    {
     "name": "stdout",
     "output_type": "stream",
     "text": [
      "  group  total_revenue\n",
      "0     A        53212.0\n",
      "1     B        79651.2\n"
     ]
    }
   ],
   "source": [
    "# Cálculo de los ingresos totales y el núm de compras por grupo\n",
    "revenue_per_group = orders_data.groupby('group')['revenue'].sum().reset_index()\n",
    "revenue_per_group.columns = ['group', 'total_revenue']\n",
    "print(revenue_per_group)"
   ]
  },
  {
   "cell_type": "code",
   "execution_count": 85,
   "metadata": {
    "scrolled": true
   },
   "outputs": [
    {
     "data": {
      "image/png": "[encoded data removed]",
      "text/plain": [
       "<Figure size 1400x700 with 1 Axes>"
      ]
     },
     "metadata": {},
     "output_type": "display_data"
    }
   ],
   "source": [
    "# Gráfico de los ingresos totales acumulados por grupo\n",
    "plt.figure(figsize=(14, 7))\n",
    "plt.bar(revenue_per_group['group'], revenue_per_group['total_revenue'], color=['blue', 'green'])\n",
    "plt.title('Ingresos Totales acumulados por grupo')\n",
    "plt.xlabel('Grupo')\n",
    "plt.ylabel('Ingresos Totales Acumulados')\n",
    "plt.grid(True)\n",
    "plt.show()"
   ]
  },
  {
   "cell_type": "markdown",
   "metadata": {},
   "source": [
    "Este gráfico representa los ingresos totales acumulados del grupo A(azul) y B(verde) el Grupo B tiene ingresos significativamente más altos que el grupo A con 79651.2 Ingresos acumulados y el A con 53212.0 Ingresos acumulados."
   ]
  },
  {
   "cell_type": "markdown",
   "metadata": {},
   "source": [
    "2. Representa gráficamente el tamaño de pedido promedio acumulado por grupo. Haz conclusiones y conjeturas."
   ]
  },
  {
   "cell_type": "code",
   "execution_count": 86,
   "metadata": {
    "scrolled": false
   },
   "outputs": [
    {
     "name": "stdout",
     "output_type": "stream",
     "text": [
      "   transactionId   visitorId       date  revenue group\n",
      "0     3667963787  3312258926 2019-08-15     30.4     B\n",
      "1     2804400009  3642806036 2019-08-15     15.2     B\n",
      "3     3797467345  1196621759 2019-08-15    155.1     B\n",
      "4     2282983706  2322279887 2019-08-15     40.5     B\n",
      "5      182168103   935554773 2019-08-15     35.0     B\n",
      "        date group  visits\n",
      "0 2019-08-01     A     719\n",
      "1 2019-08-02     A     619\n",
      "2 2019-08-03     A     507\n",
      "3 2019-08-04     A     717\n",
      "4 2019-08-05     A     756\n"
     ]
    }
   ],
   "source": [
    "# Vamos a darle el tipo de datos correcto a las columnas 'date' de cada dataset\n",
    "\n",
    "# Vamos a visualizar los datos de cada dataset\n",
    "print(orders_data.head())\n",
    "print(visits_data.head())"
   ]
  },
  {
   "cell_type": "code",
   "execution_count": 87,
   "metadata": {
    "scrolled": true
   },
   "outputs": [
    {
     "name": "stdout",
     "output_type": "stream",
     "text": [
      "         date group\n",
      "0  2019-08-15     B\n",
      "7  2019-08-15     A\n",
      "45 2019-08-16     A\n",
      "47 2019-08-16     B\n",
      "55 2019-08-01     A\n"
     ]
    }
   ],
   "source": [
    "# Creando una matriz con valores únicos de parejas date-group\n",
    "datesGroups = orders_data[['date', 'group']].drop_duplicates()\n",
    "print(datesGroups.head())"
   ]
  },
  {
   "cell_type": "code",
   "execution_count": 113,
   "metadata": {},
   "outputs": [
    {
     "name": "stdout",
     "output_type": "stream",
     "text": [
      "          date group  transactionId  visitorId  revenue\n",
      "55  2019-08-01     A             23         19   2266.6\n",
      "66  2019-08-01     B             17         17    967.2\n",
      "175 2019-08-02     A             42         36   3734.9\n",
      "173 2019-08-02     B             40         39   3535.3\n",
      "291 2019-08-03     A             66         60   5550.1\n",
      "          date group  visits\n",
      "55  2019-08-01     A     719\n",
      "66  2019-08-01     B     713\n",
      "175 2019-08-02     A    1338\n",
      "173 2019-08-02     B    1294\n",
      "291 2019-08-03     A    1845\n"
     ]
    }
   ],
   "source": [
    "#Aplicamos métodos a cada fila del DataFrame y ordenamos los resultamos por columnas 'date' y 'group'\n",
    "#Cálculo de los resultados y los almacenamos en la tabla 'ordersAggregated' y 'visitorsAggregated'\n",
    "ordersAggregated = datesGroups.apply(lambda x: orders_data[np.logical_and(orders_data['date'] <= x['date'], orders_data['group'] == x['group'])].agg({'date': 'max', 'group': 'max', 'transactionId': pd.Series.nunique, 'visitorId': pd.Series.nunique, 'revenue': 'sum'}), axis=1).sort_values(by=['date', 'group'])\n",
    "visitorsAggregated = datesGroups.apply(lambda x: visits_data[np.logical_and(visits_data['date'] <= x['date'], visits_data['group'] == x['group'])].agg({'date': 'max', 'group': 'max', 'visits': 'sum'}), axis=1).sort_values(by=['date', 'group'])\n",
    "\n",
    "print(ordersAggregated.head())\n",
    "print(visitorsAggregated.head())"
   ]
  },
  {
   "cell_type": "code",
   "execution_count": 89,
   "metadata": {
    "scrolled": true
   },
   "outputs": [
    {
     "name": "stdout",
     "output_type": "stream",
     "text": [
      "        date group  orders  buyers  revenue  visitors\n",
      "0 2019-08-01     A      23      19   2266.6       719\n",
      "1 2019-08-01     B      17      17    967.2       713\n",
      "2 2019-08-02     A      42      36   3734.9      1338\n",
      "3 2019-08-02     B      40      39   3535.3      1294\n",
      "4 2019-08-03     A      66      60   5550.1      1845\n"
     ]
    }
   ],
   "source": [
    "#Fusionamos las 2 tablas y damos a sus columnas nombres descriptivos:\n",
    "cumulativeData = ordersAggregated.merge(visitorsAggregated, left_on=['date', 'group'], right_on=['date', 'group'])\n",
    "cumulativeData.columns = ['date', 'group', 'orders', 'buyers', 'revenue', 'visitors']\n",
    "print(cumulativeData.head(5))"
   ]
  },
  {
   "cell_type": "code",
   "execution_count": 90,
   "metadata": {},
   "outputs": [
    {
     "name": "stdout",
     "output_type": "stream",
     "text": [
      "Resultados para el grupo A:\n",
      "revenue    840331.0\n",
      "orders       7904.0\n",
      "dtype: float64\n",
      "Resultados para el grupo B:\n",
      "revenue    1216292.8\n",
      "orders        9038.0\n",
      "dtype: float64\n"
     ]
    }
   ],
   "source": [
    "#Dataframe con pedidos acumulados e ingresos por grupo\n",
    "cumulativeRevenueA = cumulativeData[cumulativeData['group']=='A'][['date', 'revenue', 'orders']]\n",
    "cumulativeRevenueB = cumulativeData[cumulativeData['group']=='B'][['date', 'revenue', 'orders']]\n",
    "print(\"Resultados para el grupo A:\")\n",
    "print(cumulativeRevenueA.sum())\n",
    "print(\"Resultados para el grupo B:\")\n",
    "print(cumulativeRevenueB.sum())"
   ]
  },
  {
   "cell_type": "code",
   "execution_count": 91,
   "metadata": {
    "scrolled": false
   },
   "outputs": [
    {
     "data": {
      "text/plain": [
       "<matplotlib.legend.Legend at 0x7f29429764f0>"
      ]
     },
     "execution_count": 91,
     "metadata": {},
     "output_type": "execute_result"
    },
    {
     "data": {
      "image/png": "[encoded data removed]",
      "text/plain": [
       "<Figure size 640x480 with 1 Axes>"
      ]
     },
     "metadata": {},
     "output_type": "display_data"
    }
   ],
   "source": [
    "#Gráfico de ingresos del grupo A\n",
    "plt.plot(cumulativeRevenueA['date'], cumulativeRevenueA['revenue'], label='A')\n",
    "#Gráfico de ingresos del grupo B\n",
    "plt.plot(cumulativeRevenueB['date'], cumulativeRevenueB['revenue'], label='B')\n",
    "plt.xticks(rotation=90)\n",
    "plt.legend()"
   ]
  },
  {
   "cell_type": "markdown",
   "metadata": {},
   "source": [
    "Podemos ver que los ingresos aumentan constantemente en cada grupo tal y como mostramos en el gráfico anterior el grupo B tiene mayores ingresos, el grupo B tiene un pico de de ingresos muy alto despues del '2019-08-21'. "
   ]
  },
  {
   "cell_type": "code",
   "execution_count": 92,
   "metadata": {
    "scrolled": false
   },
   "outputs": [
    {
     "data": {
      "text/plain": [
       "<matplotlib.legend.Legend at 0x7f29429d2fa0>"
      ]
     },
     "execution_count": 92,
     "metadata": {},
     "output_type": "execute_result"
    },
    {
     "data": {
      "image/png": "[encoded data removed]",
      "text/plain": [
       "<Figure size 640x480 with 1 Axes>"
      ]
     },
     "metadata": {},
     "output_type": "display_data"
    }
   ],
   "source": [
    "# Vamos a trazar el tamaño promedio de pedido/compra por grupo es la division de los ingresos acumulados entre el número acumulado de pedidos\n",
    "plt.plot(cumulativeRevenueA['date'], cumulativeRevenueA['revenue'] / cumulativeRevenueA['orders'], label='A')\n",
    "plt.plot(cumulativeRevenueB['date'], cumulativeRevenueB['revenue'] / cumulativeRevenueB['orders'], label='B')\n",
    "plt.xticks(rotation=90)\n",
    "plt.legend()"
   ]
  },
  {
   "cell_type": "markdown",
   "metadata": {},
   "source": [
    "Tenemos picos altos y bajos en ambos grupos, El grupo A tiene un pico de bajada y luego un pico de subida al final tiende a estabilizarse, el grupo B tiende subir luego tiene gran pico alto y al final tiende a bajar. Vamos a encontrar el verdadero tamaño promedio con la diferencia relativa."
   ]
  },
  {
   "cell_type": "markdown",
   "metadata": {},
   "source": [
    "3. Representa gráficamente la diferencia relativa en el tamaño de pedido promedio acumulado para el grupo B en comparación con el grupo A. Haz conclusiones y conjeturas."
   ]
  },
  {
   "cell_type": "code",
   "execution_count": 93,
   "metadata": {},
   "outputs": [
    {
     "name": "stdout",
     "output_type": "stream",
     "text": [
      "        date  revenueA  ordersA  revenueB  ordersB\n",
      "0 2019-08-01    2266.6       23     967.2       17\n",
      "1 2019-08-02    3734.9       42    3535.3       40\n",
      "2 2019-08-03    5550.1       66    4606.9       54\n",
      "3 2019-08-04    6225.6       77    6138.5       68\n",
      "4 2019-08-05    7623.6       99    7587.8       89\n"
     ]
    }
   ],
   "source": [
    "#Reunión de datos en un dataframe\n",
    "mergedCumulativeRevenue = cumulativeRevenueA.merge(cumulativeRevenueB, left_on='date', right_on='date', how='left', suffixes=['A', 'B'])\n",
    "print(mergedCumulativeRevenue.head())"
   ]
  },
  {
   "cell_type": "code",
   "execution_count": 94,
   "metadata": {
    "scrolled": false
   },
   "outputs": [
    {
     "data": {
      "text/plain": [
       "<matplotlib.lines.Line2D at 0x7f2942c07be0>"
      ]
     },
     "execution_count": 94,
     "metadata": {},
     "output_type": "execute_result"
    },
    {
     "data": {
      "image/png": "[encoded data removed]",
      "text/plain": [
       "<Figure size 640x480 with 1 Axes>"
      ]
     },
     "metadata": {},
     "output_type": "display_data"
    }
   ],
   "source": [
    "#Gráfico de diferencia relativa para los tamaños de compra promedio\n",
    "plt.plot(mergedCumulativeRevenue['date'], (mergedCumulativeRevenue['revenueB']/mergedCumulativeRevenue['ordersB']) / (mergedCumulativeRevenue['revenueA']/mergedCumulativeRevenue['ordersA'])-1)\n",
    "plt.xticks(rotation=90)\n",
    "\n",
    "#Agregamos la linea punteada en el eje X\n",
    "plt.axhline(y=0, color='black', linestyle='--')"
   ]
  },
  {
   "cell_type": "markdown",
   "metadata": {},
   "source": [
    "En varios puntos, la diferencia entre los segmentos más aumenta que disminuye, esto significa que tenemos pedidos grandes y valores atípicos."
   ]
  },
  {
   "cell_type": "markdown",
   "metadata": {},
   "source": [
    "4. Calcularemos la tasa de conversión de cada grupo como la relación entre los pedidos y el número de visitas de cada día y Representaremos gráficamente las tasas de conversión diarias de los dos grupos y describiremos la diferencia."
   ]
  },
  {
   "cell_type": "code",
   "execution_count": 95,
   "metadata": {},
   "outputs": [
    {
     "name": "stdout",
     "output_type": "stream",
     "text": [
      "0    0.031989\n",
      "1    0.023843\n",
      "2    0.031390\n",
      "3    0.030912\n",
      "4    0.035772\n",
      "Name: conversion, dtype: float64\n"
     ]
    }
   ],
   "source": [
    "#Cálculo de tasa de conversión acumulada\n",
    "cumulativeData['conversion'] = cumulativeData['orders'] / cumulativeData['visitors']\n",
    "print(cumulativeData['conversion'].head())"
   ]
  },
  {
   "cell_type": "code",
   "execution_count": 96,
   "metadata": {},
   "outputs": [
    {
     "name": "stdout",
     "output_type": "stream",
     "text": [
      "Datos grupo A\n",
      "        date group  orders  buyers  revenue  visitors  conversion\n",
      "0 2019-08-01     A      23      19   2266.6       719    0.031989\n",
      "2 2019-08-02     A      42      36   3734.9      1338    0.031390\n",
      "4 2019-08-03     A      66      60   5550.1      1845    0.035772\n",
      "6 2019-08-04     A      77      71   6225.6      2562    0.030055\n",
      "8 2019-08-05     A      99      92   7623.6      3318    0.029837\n",
      "\n",
      "Datos grupo B\n",
      "        date group  orders  buyers  revenue  visitors  conversion\n",
      "1 2019-08-01     B      17      17    967.2       713    0.023843\n",
      "3 2019-08-02     B      40      39   3535.3      1294    0.030912\n",
      "5 2019-08-03     B      54      53   4606.9      1803    0.029950\n",
      "7 2019-08-04     B      68      66   6138.5      2573    0.026428\n",
      "9 2019-08-05     B      89      87   7587.8      3280    0.027134\n"
     ]
    }
   ],
   "source": [
    "#Seleccionamos datos del grupo A\n",
    "cumulativeDataA = cumulativeData[cumulativeData['group']=='A']\n",
    "print('Datos grupo A')\n",
    "print(cumulativeDataA.head())\n",
    "\n",
    "#Seleccionamos datos del grupo B\n",
    "cumulativeDataB = cumulativeData[cumulativeData['group']=='B']\n",
    "print('\\nDatos grupo B')\n",
    "print(cumulativeDataB.head())"
   ]
  },
  {
   "cell_type": "code",
   "execution_count": 97,
   "metadata": {
    "scrolled": false
   },
   "outputs": [
    {
     "data": {
      "text/plain": [
       "<matplotlib.legend.Legend at 0x7f293e5028e0>"
      ]
     },
     "execution_count": 97,
     "metadata": {},
     "output_type": "execute_result"
    },
    {
     "data": {
      "image/png": "[encoded data removed]",
      "text/plain": [
       "<Figure size 640x480 with 1 Axes>"
      ]
     },
     "metadata": {},
     "output_type": "display_data"
    }
   ],
   "source": [
    "#Trazo de gráficos\n",
    "plt.plot(cumulativeDataA['date'], cumulativeDataA['conversion'], label='A')\n",
    "plt.plot(cumulativeDataB['date'], cumulativeDataB['conversion'], label='B')\n",
    "plt.xticks(rotation=90)\n",
    "plt.legend()"
   ]
  },
  {
   "cell_type": "markdown",
   "metadata": {},
   "source": [
    "Tenemos gráficos simétricos con respecto a que ambos grupos comienzan con un pico alto, el grupo A va teniendo una disminución en su tasa de conversión y luego se estabiliza, con respecto grupo B la tasa de conversión va mejorando  y se estabiliza con una pequeña disminución al final."
   ]
  },
  {
   "cell_type": "code",
   "execution_count": 98,
   "metadata": {},
   "outputs": [
    {
     "data": {
      "text/html": [
       "<div>\n",
       "<style scoped>\n",
       "    .dataframe tbody tr th:only-of-type {\n",
       "        vertical-align: middle;\n",
       "    }\n",
       "\n",
       "    .dataframe tbody tr th {\n",
       "        vertical-align: top;\n",
       "    }\n",
       "\n",
       "    .dataframe thead th {\n",
       "        text-align: right;\n",
       "    }\n",
       "</style>\n",
       "<table border=\"1\" class=\"dataframe\">\n",
       "  <thead>\n",
       "    <tr style=\"text-align: right;\">\n",
       "      <th></th>\n",
       "      <th>date</th>\n",
       "      <th>conversionA</th>\n",
       "      <th>conversionB</th>\n",
       "    </tr>\n",
       "  </thead>\n",
       "  <tbody>\n",
       "    <tr>\n",
       "      <th>0</th>\n",
       "      <td>2019-08-01</td>\n",
       "      <td>0.031989</td>\n",
       "      <td>0.023843</td>\n",
       "    </tr>\n",
       "    <tr>\n",
       "      <th>1</th>\n",
       "      <td>2019-08-02</td>\n",
       "      <td>0.031390</td>\n",
       "      <td>0.030912</td>\n",
       "    </tr>\n",
       "    <tr>\n",
       "      <th>2</th>\n",
       "      <td>2019-08-03</td>\n",
       "      <td>0.035772</td>\n",
       "      <td>0.029950</td>\n",
       "    </tr>\n",
       "    <tr>\n",
       "      <th>3</th>\n",
       "      <td>2019-08-04</td>\n",
       "      <td>0.030055</td>\n",
       "      <td>0.026428</td>\n",
       "    </tr>\n",
       "    <tr>\n",
       "      <th>4</th>\n",
       "      <td>2019-08-05</td>\n",
       "      <td>0.029837</td>\n",
       "      <td>0.027134</td>\n",
       "    </tr>\n",
       "  </tbody>\n",
       "</table>\n",
       "</div>"
      ],
      "text/plain": [
       "        date  conversionA  conversionB\n",
       "0 2019-08-01     0.031989     0.023843\n",
       "1 2019-08-02     0.031390     0.030912\n",
       "2 2019-08-03     0.035772     0.029950\n",
       "3 2019-08-04     0.030055     0.026428\n",
       "4 2019-08-05     0.029837     0.027134"
      ]
     },
     "execution_count": 98,
     "metadata": {},
     "output_type": "execute_result"
    }
   ],
   "source": [
    "#Cálculo de la diferencia relativa para las tasas de conversión acumuladas\n",
    "mergedCumulativeConversions = cumulativeDataA[['date', 'conversion']].merge(cumulativeDataB[['date', 'conversion']], left_on='date', right_on='date', how='left', suffixes=['A', 'B'])\n",
    "mergedCumulativeConversions.head()"
   ]
  },
  {
   "cell_type": "code",
   "execution_count": 99,
   "metadata": {},
   "outputs": [
    {
     "name": "stderr",
     "output_type": "stream",
     "text": [
      "No handles with labels found to put in legend.\n"
     ]
    },
    {
     "data": {
      "text/plain": [
       "<matplotlib.lines.Line2D at 0x7f293e227fa0>"
      ]
     },
     "execution_count": 99,
     "metadata": {},
     "output_type": "execute_result"
    },
    {
     "data": {
      "image/png": "[encoded data removed]",
      "text/plain": [
       "<Figure size 640x480 with 1 Axes>"
      ]
     },
     "metadata": {},
     "output_type": "display_data"
    }
   ],
   "source": [
    "#Gráfico de la diferencia relativa para las tasas de conversión acumuladas\n",
    "plt.plot(mergedCumulativeConversions['date'], mergedCumulativeConversions['conversionB']/mergedCumulativeConversions['conversionA']-1)\n",
    "plt.xticks(rotation=90)\n",
    "plt.legend()\n",
    "\n",
    "plt.axhline(y=0, color='black', linestyle='--')\n",
    "plt.axhline(y=0.1, color='grey', linestyle='--')"
   ]
  },
  {
   "cell_type": "markdown",
   "metadata": {},
   "source": [
    "Con respecto al gráfico, el grupo B fue el líder desde un principio estabilizándose con un 10% más que el grupo A, pero el índice de conversión aún no es estable y todavía no se pueden tener conclusiones claras"
   ]
  },
  {
   "cell_type": "markdown",
   "metadata": {},
   "source": [
    "5. Traza un gráfico de dispersión del número de pedidos por usuario. Haz conclusiones y conjeturas."
   ]
  },
  {
   "cell_type": "code",
   "execution_count": 114,
   "metadata": {
    "scrolled": false
   },
   "outputs": [
    {
     "name": "stdout",
     "output_type": "stream",
     "text": [
      "      visitorId  orders\n",
      "908  3967698036       3\n",
      "55    249864742       3\n",
      "478  2108163459       3\n",
      "687  2988190573       3\n",
      "890  3908431265       3\n",
      "138   611059232       3\n",
      "632  2742574263       3\n",
      "157   678354126       2\n",
      "323  1404560065       2\n",
      "452  1985475298       2\n"
     ]
    }
   ],
   "source": [
    "#Vamos a buscar el número de pedidos por usuario\n",
    "ordersByUsers = (\n",
    "    orders_data.drop(['group', 'revenue', 'date'], axis=1)\n",
    "    .groupby('visitorId', as_index=False)\n",
    "    .agg({'transactionId': pd.Series.nunique})\n",
    ")\n",
    "\n",
    "ordersByUsers.columns = ['visitorId', 'orders']\n",
    "\n",
    "print(ordersByUsers.sort_values(by='orders', ascending=False).head(10))"
   ]
  },
  {
   "cell_type": "markdown",
   "metadata": {},
   "source": [
    "Hay usuarios con 3 y 2 pedidos. Es el promedio que habitualmente hacen en una semana."
   ]
  },
  {
   "cell_type": "code",
   "execution_count": 116,
   "metadata": {
    "scrolled": false
   },
   "outputs": [
    {
     "data": {
      "text/plain": [
       "(array([937.,   0.,   0.,   0.,   0.,  29.,   0.,   0.,   0.,   7.]),\n",
       " array([1. , 1.2, 1.4, 1.6, 1.8, 2. , 2.2, 2.4, 2.6, 2.8, 3. ]),\n",
       " <BarContainer object of 10 artists>)"
      ]
     },
     "execution_count": 116,
     "metadata": {},
     "output_type": "execute_result"
    },
    {
     "data": {
      "image/png": "[encoded data removed]",
      "text/plain": [
       "<Figure size 640x480 with 1 Axes>"
      ]
     },
     "metadata": {},
     "output_type": "display_data"
    }
   ],
   "source": [
    "plt.hist(ordersByUsers['orders'])"
   ]
  },
  {
   "cell_type": "markdown",
   "metadata": {},
   "source": [
    "La mayoría de los clientes hicieron solo un pedido. Sim embargo, una parte significativa hizo de dos a tres cada uno."
   ]
  },
  {
   "cell_type": "code",
   "execution_count": 101,
   "metadata": {
    "scrolled": false
   },
   "outputs": [
    {
     "data": {
      "text/plain": [
       "<matplotlib.collections.PathCollection at 0x7f293e445d30>"
      ]
     },
     "execution_count": 101,
     "metadata": {},
     "output_type": "execute_result"
    },
    {
     "data": {
      "image/png": "[encoded data removed]",
      "text/plain": [
       "<Figure size 640x480 with 1 Axes>"
      ]
     },
     "metadata": {},
     "output_type": "display_data"
    }
   ],
   "source": [
    "#Gráfico de dispersion del número de pedidos por usuario\n",
    "x_values = pd.Series(range(0, len(ordersByUsers)))\n",
    "\n",
    "plt.scatter(x_values, ordersByUsers['orders'])"
   ]
  },
  {
   "cell_type": "markdown",
   "metadata": {},
   "source": [
    "Las conclusiones que tenemos es que hay muchos usuarios con 1, 2 y 3 pedidos. No sabemos la proporción exacta ya que todavía no sabemos si considerarlos como anomalías."
   ]
  },
  {
   "cell_type": "markdown",
   "metadata": {},
   "source": [
    "6.Calcularemos los percentiles 95 y 99 para el número de pedidos por usuario y  Definiremos el punto en el cual un punto de datos se convierte en una anomalía."
   ]
  },
  {
   "cell_type": "code",
   "execution_count": 102,
   "metadata": {},
   "outputs": [
    {
     "name": "stdout",
     "output_type": "stream",
     "text": [
      "[1. 2.]\n"
     ]
    }
   ],
   "source": [
    "#Cálculo de percentiles 95 y 99 para el número de pedidos por usuario\n",
    "print(np.percentile(ordersByUsers['orders'], [95, 99]))"
   ]
  },
  {
   "cell_type": "markdown",
   "metadata": {},
   "source": [
    "No más del 5% de los usuarios realizan más de 1 pedido"
   ]
  },
  {
   "cell_type": "markdown",
   "metadata": {},
   "source": [
    "No más del 1% de los usuarios realizan más de 2 pedidos"
   ]
  },
  {
   "cell_type": "markdown",
   "metadata": {},
   "source": [
    "Por lo tanto es razonable establecer como 2 pedidos por usuario como límite inferior para el número de pedidos. Y de acuerdo a este límite filtrar las anomalías."
   ]
  },
  {
   "cell_type": "markdown",
   "metadata": {},
   "source": [
    "7. Trazaremos un gráfico de dispersión de los precios de los pedidos."
   ]
  },
  {
   "cell_type": "code",
   "execution_count": 103,
   "metadata": {},
   "outputs": [
    {
     "name": "stdout",
     "output_type": "stream",
     "text": [
      "    transactionId   visitorId       date  revenue group\n",
      "0      3667963787  3312258926 2019-08-15     30.4     B\n",
      "1      2804400009  3642806036 2019-08-15     15.2     B\n",
      "3      3797467345  1196621759 2019-08-15    155.1     B\n",
      "4      2282983706  2322279887 2019-08-15     40.5     B\n",
      "5       182168103   935554773 2019-08-15     35.0     B\n",
      "6       398296753  2900797465 2019-08-15     30.6     B\n",
      "7      2626614568    78758296 2019-08-15     20.1     A\n",
      "8      1576988021   295230930 2019-08-15    215.9     A\n",
      "9      1506739906  1882260405 2019-08-15     30.5     B\n",
      "10     3649131742   879864040 2019-08-15     65.7     A\n"
     ]
    }
   ],
   "source": [
    "#Revisamos los datos\n",
    "print(orders_data.head(10))"
   ]
  },
  {
   "cell_type": "markdown",
   "metadata": {},
   "source": [
    "Dentro de los 10 primeros pedidos tenemos filas que varían entre 215.9 y 10.2"
   ]
  },
  {
   "cell_type": "code",
   "execution_count": 104,
   "metadata": {},
   "outputs": [
    {
     "name": "stdout",
     "output_type": "stream",
     "text": [
      "El revenue más alto del dataset es: 19920.4\n",
      "El revenue más bajo del dataset es: 5.0\n"
     ]
    }
   ],
   "source": [
    "#El precio de pedido mas grande y el más pequeño\n",
    "max_revenue = orders_data['revenue'].max()\n",
    "min_revenue = orders_data['revenue'].min()\n",
    "print(f\"El revenue más alto del dataset es: {max_revenue}\")\n",
    "print(f\"El revenue más bajo del dataset es: {min_revenue}\")"
   ]
  },
  {
   "cell_type": "markdown",
   "metadata": {},
   "source": [
    "Si un pedido tan grande entra en uno de los grupps de prueba, inmediatamente distorcionará los resultados."
   ]
  },
  {
   "cell_type": "code",
   "execution_count": 105,
   "metadata": {},
   "outputs": [
    {
     "data": {
      "text/plain": [
       "(array([1.014e+03, 1.000e+00, 0.000e+00, 0.000e+00, 0.000e+00, 0.000e+00,\n",
       "        0.000e+00, 0.000e+00, 0.000e+00, 1.000e+00]),\n",
       " array([5.000000e+00, 1.996540e+03, 3.988080e+03, 5.979620e+03,\n",
       "        7.971160e+03, 9.962700e+03, 1.195424e+04, 1.394578e+04,\n",
       "        1.593732e+04, 1.792886e+04, 1.992040e+04]),\n",
       " <BarContainer object of 10 artists>)"
      ]
     },
     "execution_count": 105,
     "metadata": {},
     "output_type": "execute_result"
    },
    {
     "data": {
      "image/png": "[encoded data removed]",
      "text/plain": [
       "<Figure size 640x480 with 1 Axes>"
      ]
     },
     "metadata": {},
     "output_type": "display_data"
    }
   ],
   "source": [
    "#Análisis del histograma de distribución de precios de pedidos:\n",
    "plt.hist(orders_data['revenue'])"
   ]
  },
  {
   "cell_type": "markdown",
   "metadata": {},
   "source": [
    "El hisograma nos muestra que definitivamente, el dataset contiene pedidos que cuestan mas de $1200, donde la mayoría de los pedidos son más pequeños."
   ]
  },
  {
   "cell_type": "code",
   "execution_count": 106,
   "metadata": {},
   "outputs": [
    {
     "data": {
      "text/plain": [
       "<matplotlib.collections.PathCollection at 0x7f293e9eecd0>"
      ]
     },
     "execution_count": 106,
     "metadata": {},
     "output_type": "execute_result"
    },
    {
     "data": {
      "image/png": "[encoded data removed]",
      "text/plain": [
       "<Figure size 640x480 with 1 Axes>"
      ]
     },
     "metadata": {},
     "output_type": "display_data"
    }
   ],
   "source": [
    "#Gráfico de disperción\n",
    "x_values = pd.Series(range(0, len(orders_data['revenue'])))\n",
    "plt.scatter(x_values, orders_data['revenue'])"
   ]
  },
  {
   "cell_type": "markdown",
   "metadata": {},
   "source": [
    "Tal como esperamos, tenemos 2 pedidos grandes, uno de ellos es completamente grande, tenemos que establecer un límite para pedidos anormales."
   ]
  },
  {
   "cell_type": "markdown",
   "metadata": {},
   "source": [
    "8. Cálculo los percentiles 95 y 99 de los precios de los pedidos y Definiremos el punto en el cual un punto de datos se convierte en una anomalía."
   ]
  },
  {
   "cell_type": "code",
   "execution_count": 107,
   "metadata": {},
   "outputs": [
    {
     "name": "stdout",
     "output_type": "stream",
     "text": [
      "[414.275 830.3  ]\n"
     ]
    }
   ],
   "source": [
    "print(np.percentile(orders_data['revenue'], [95, 99]))"
   ]
  },
  {
   "cell_type": "markdown",
   "metadata": {},
   "source": [
    "No más del 5% de los pedidos cuestan más de $414.28"
   ]
  },
  {
   "cell_type": "markdown",
   "metadata": {},
   "source": [
    "No más del 1% de los pedidos cuestan más de $830.3"
   ]
  },
  {
   "cell_type": "markdown",
   "metadata": {},
   "source": [
    "Por lo tanto es razonable establecer $830 como precio por pedido promedio por usuario como límite inferior para el número de pedidos. Y de acuerdo a este límite filtrar las anomalías."
   ]
  },
  {
   "cell_type": "markdown",
   "metadata": {},
   "source": [
    "9. Encontraremos la significancia estadística de la diferencia en la conversión entre los grupos utilizando los datos en bruto."
   ]
  },
  {
   "cell_type": "code",
   "execution_count": 108,
   "metadata": {},
   "outputs": [],
   "source": [
    "#Cálculo de la significancia estadística de la diferencia de la diferencia en la conversión entre los grupos\n",
    "ordersByUsersA = orders_data[orders_data['group']=='A'].groupby('visitorId', as_index=False).agg({'transactionId': pd.Series.nunique})     \n",
    "ordersByUsersA.columns = ['userId', 'orders']\n",
    "\n",
    "ordersByUsersB = orders_data[orders_data['group']=='B'].groupby('visitorId', as_index=False).agg({'transactionId': pd.Series.nunique})\n",
    "ordersByUsersB.columns = ['userId', 'orders']"
   ]
  },
  {
   "cell_type": "code",
   "execution_count": 109,
   "metadata": {},
   "outputs": [],
   "source": [
    "#Vamos a crear un objeto pd.Series con la longitud requerida y\n",
    "#Declarar las variables sampleA y sampleB con usuarios de diferentes grupos\n",
    "sampleA = pd.concat([ordersByUsersA['orders'], pd.Series(0, index=np.arange(visits_data[visits_data['group']=='A']['visits'].sum() - len(ordersByUsersA['orders'])), name='orders')], axis=0)\n",
    "\n",
    "sampleB = pd.concat([ordersByUsersB['orders'], pd.Series(0, index=np.arange(visits_data[visits_data['group']=='B']['visits'].sum() - len(ordersByUsersB['orders'])), name='orders')], axis=0)"
   ]
  },
  {
   "cell_type": "code",
   "execution_count": 110,
   "metadata": {},
   "outputs": [
    {
     "name": "stdout",
     "output_type": "stream",
     "text": [
      " 0.011\n",
      " 0.160\n"
     ]
    }
   ],
   "source": [
    "#Encontramos la tasa de conversión para ambos grupos\n",
    "print(\"{0: .3f}\".format(stats.mannwhitneyu(sampleA, sampleB)[1]))\n",
    "print(\"{0: .3f}\".format(sampleB.mean()/sampleA.mean()-1))"
   ]
  },
  {
   "cell_type": "markdown",
   "metadata": {},
   "source": [
    "Conclusión: La primera fila de salida nos da un valor de 0.011, que es menor que 0.05. Entonces rechazamos la hipótesis nula ya que existe una diferencia estadísticamente significativa en la conversión entre los grupos. La tasa de conversión del grupo B es un 16% mayor que la del grupo A, indicando que el grupo B tiene un rendimiento mejor en términos de conversión en comparación con el grupo A."
   ]
  },
  {
   "cell_type": "markdown",
   "metadata": {},
   "source": [
    "10. Encontraremos la significancia estadística de la diferencia en el tamaño promedio de pedido entre los grupos utilizando los datos en bruto."
   ]
  },
  {
   "cell_type": "code",
   "execution_count": 111,
   "metadata": {},
   "outputs": [
    {
     "name": "stdout",
     "output_type": "stream",
     "text": [
      "0.862\n",
      "0.278\n"
     ]
    }
   ],
   "source": [
    "print('{0:.3f}'.format(stats.mannwhitneyu(orders_data[orders_data['group']=='A']['revenue'], orders_data[orders_data['group']=='B']['revenue'])[1]))\n",
    "print('{0:.3f}'.format(orders_data[orders_data['group']=='B']['revenue'].mean() / orders_data[orders_data['group']=='A']['revenue'].mean()-1))"
   ]
  },
  {
   "cell_type": "markdown",
   "metadata": {},
   "source": [
    "El valor es notablemente superior a 0.05 por lo que no hay motivo para rechazar la hipótesis nula y concluir que el tamaño medio de los pedidos difiere entre los grupos. El tamaño promedio de pedido del grupo B es un 27.8% mayor que el tamaño promedio de pedido del grupo A, aunque la diferencia parece grande, no podemos estar seguros de que no sea simplemente el resultado de la variabilidad aleatoria en los datos."
   ]
  },
  {
   "cell_type": "markdown",
   "metadata": {},
   "source": [
    "11. Encontraremos la significancia estadística de la diferencia en la conversión entre los grupos utilizando los datos filtrados. "
   ]
  },
  {
   "cell_type": "code",
   "execution_count": 117,
   "metadata": {},
   "outputs": [
    {
     "name": "stdout",
     "output_type": "stream",
     "text": [
      "1099     148427295\n",
      "949      887908475\n",
      "744      888512513\n",
      "1103    1164614297\n",
      "1136    1307669133\n",
      "dtype: int64\n",
      "(12,)\n"
     ]
    }
   ],
   "source": [
    "#Vamos a filtrar el número total de usuarios anómalos\n",
    "usersWithManyOrders = pd.concat([ordersByUsersA[ordersByUsersA['orders'] > 3]['userId'], ordersByUsersB[ordersByUsersB['orders'] > 3]['userId']], axis = 0)\n",
    "usersWithExpensiveOrders = orders_data[orders_data['revenue'] > 830]['visitorId']\n",
    "abnormalUsers = pd.concat([usersWithManyOrders, usersWithExpensiveOrders], axis = 0).drop_duplicates().sort_values()\n",
    "print(abnormalUsers.head(5))\n",
    "print(abnormalUsers.shape)"
   ]
  },
  {
   "cell_type": "markdown",
   "metadata": {},
   "source": [
    "En total tenemos 12 usuarios anómalos"
   ]
  },
  {
   "cell_type": "code",
   "execution_count": 120,
   "metadata": {},
   "outputs": [],
   "source": [
    "#Preparación de muestras del número de pedidos por usuario para cada grupo\n",
    "sampleAFiltered = pd.concat([ordersByUsersA[np.logical_not(ordersByUsersA['userId'].isin(abnormalUsers))]['orders'], pd.Series(0, index=np.arange(visits_data[visits_data['group']=='A']['visits'].sum() - len(ordersByUsersA['orders'])), name='orders')], axis=0)\n",
    "\n",
    "sampleBFiltered = pd.concat([ordersByUsersB[np.logical_not(ordersByUsersB['userId'].isin(abnormalUsers))]['orders'], pd.Series(0, index=np.arange(visits_data[visits_data['group']=='B']['visits'].sum() - len(ordersByUsersB['orders'])), name='orders')], axis=0)"
   ]
  },
  {
   "cell_type": "code",
   "execution_count": 122,
   "metadata": {},
   "outputs": [
    {
     "name": "stdout",
     "output_type": "stream",
     "text": [
      "0.009\n",
      "0.167\n"
     ]
    }
   ],
   "source": [
    "#Aplicamos criterio estadístico de Mann-Whitney a las muestras\n",
    "print(\"{0:.3f}\".format(stats.mannwhitneyu(sampleAFiltered, sampleBFiltered)[1]))\n",
    "print(\"{0:.3f}\".format(sampleBFiltered.mean() / sampleAFiltered.mean()-1))"
   ]
  },
  {
   "cell_type": "markdown",
   "metadata": {},
   "source": [
    "Los resultados son muy parecidos a los anteriores, casi no cambiaron."
   ]
  },
  {
   "cell_type": "markdown",
   "metadata": {},
   "source": [
    "12. Encontremos la significancia estadística de la diferencia en el tamaño promedio de pedido entre los grupos utilizando los datos filtrados. "
   ]
  },
  {
   "cell_type": "code",
   "execution_count": 123,
   "metadata": {},
   "outputs": [
    {
     "name": "stdout",
     "output_type": "stream",
     "text": [
      "0.988\n",
      "-0.014\n"
     ]
    }
   ],
   "source": [
    "print('{0:.3f}'.format(stats.mannwhitneyu(\n",
    "    orders_data[np.logical_and(\n",
    "        orders_data['group']=='A', \n",
    "        np.logical_not(orders_data['visitorId'].isin(abnormalUsers)))]['revenue'], \n",
    "    orders_data[np.logical_and(\n",
    "        orders_data['group']=='B', \n",
    "        np.logical_not(orders_data['visitorId'].isin(abnormalUsers)))]['revenue'])[1]))\n",
    "\n",
    "print('{0:.3f}'.format(\n",
    "    orders_data[np.logical_and(orders_data['group']=='B', np.logical_not(orders_data['visitorId'].isin(abnormalUsers)))]['revenue'].mean()/\n",
    "    orders_data[np.logical_and(\n",
    "        orders_data['group']=='A',\n",
    "        np.logical_not(orders_data['visitorId'].isin(abnormalUsers)))]['revenue'].mean() - 1))"
   ]
  },
  {
   "cell_type": "markdown",
   "metadata": {},
   "source": [
    "El valor p aumentó y ahora la diferencia entre los segmentos es del 1.4% en lugar de 27.8%"
   ]
  },
  {
   "cell_type": "markdown",
   "metadata": {},
   "source": [
    "Aunque las conclusiones generales de la prueba no cambiaron, este análisis demuestra como las anomalías pueden cambiar y afectar los resultados de la prueba A/B."
   ]
  },
  {
   "cell_type": "markdown",
   "metadata": {},
   "source": [
    "13. Tomaremos una decisión basada en los resultados de la prueba. Las decisiones posibles son: 1. Para la prueba, considera a uno de los grupos como líder. 2. Para la prueba, concluye que no hay diferencia entre los grupos. 3. Continúa la prueba."
   ]
  },
  {
   "cell_type": "markdown",
   "metadata": {},
   "source": [
    "1. De acuerdo a la Prueba de Mann-Whitney U para la conversión:\n",
    "Valor p = 0.009:\n",
    "Este valor p es menor que el nivel de significancia (0.05), lo que indica que hay una diferencia estadísticamente significativa en la tasa de conversión entre los grupos A y B después de filtrar los datos.\n",
    "Diferencia relativa = 0.167:\n",
    "La tasa de conversión del grupo B es un 16.7% mayor que la del grupo A."
   ]
  },
  {
   "cell_type": "markdown",
   "metadata": {},
   "source": [
    "2. De acuerdo a la Prueba de Mann-Whitney U para el tamaño promedio de pedido:\n",
    "Valor p = 0.988:\n",
    "Este valor p es mayor que el nivel de significancia (0.05), lo que indica que no hay una diferencia estadísticamente significativa en el tamaño promedio de pedido entre los grupos A y B después de filtrar los datos.\n",
    "Diferencia relativa = -0.014:\n",
    "La diferencia relativa muestra que el tamaño promedio de pedido del grupo B es un 1.4% menor que el del grupo A, lo cual es prácticamente insignificante."
   ]
  },
  {
   "cell_type": "markdown",
   "metadata": {},
   "source": [
    "3. Desición: Para la tasa de conversión:\n",
    "\n",
    "Dado que hay una diferencia estadísticamente significativa en la tasa de conversión entre los grupos A y B, con el grupo B mostrando una mejora del 16.7%, se puede concluir que el grupo B es el líder en términos de conversión.\n",
    "\n",
    "\n",
    "Para el tamaño promedio de pedido:\n",
    "\n",
    "Dado que no hay una diferencia estadísticamente significativa en el tamaño promedio de pedido entre los grupos A y B, y la diferencia relativa es prácticamente insignificante, se puede concluir que no hay diferencia significativa en el tamaño promedio de pedido entre los grupos."
   ]
  },
  {
   "cell_type": "markdown",
   "metadata": {},
   "source": [
    "CONSLUSION FINAL:\n",
    "Para la prueba, se considera al grupo B como líder en términos de tasa de conversión, pero concluye que no hay diferencia significativa entre los grupos en cuanto al tamaño promedio de pedido."
   ]
  },
  {
   "cell_type": "code",
   "execution_count": null,
   "metadata": {},
   "outputs": [],
   "source": []
  }
 ],
 "metadata": {
  "ExecuteTimeLog": [
   {
    "duration": 4970,
    "start_time": "2024-07-29T20:30:10.160Z"
   },
   {
    "duration": 34,
    "start_time": "2024-07-29T20:32:52.119Z"
   },
   {
    "duration": 14,
    "start_time": "2024-07-29T20:36:30.757Z"
   },
   {
    "duration": 14,
    "start_time": "2024-07-29T20:36:45.845Z"
   },
   {
    "duration": 14,
    "start_time": "2024-07-29T20:37:00.637Z"
   },
   {
    "duration": 17,
    "start_time": "2024-07-29T20:49:01.754Z"
   },
   {
    "duration": 14,
    "start_time": "2024-07-29T20:49:37.999Z"
   },
   {
    "duration": 13,
    "start_time": "2024-07-29T20:49:54.090Z"
   },
   {
    "duration": 14,
    "start_time": "2024-07-29T20:49:59.911Z"
   },
   {
    "duration": 14,
    "start_time": "2024-07-29T20:50:12.652Z"
   },
   {
    "duration": 14,
    "start_time": "2024-07-29T20:50:19.545Z"
   },
   {
    "duration": 18,
    "start_time": "2024-07-29T20:50:59.407Z"
   },
   {
    "duration": 30,
    "start_time": "2024-07-29T20:53:45.289Z"
   },
   {
    "duration": 24,
    "start_time": "2024-07-29T20:54:03.303Z"
   },
   {
    "duration": 6,
    "start_time": "2024-07-29T21:00:11.925Z"
   },
   {
    "duration": 4,
    "start_time": "2024-07-29T21:00:12.186Z"
   },
   {
    "duration": 1256,
    "start_time": "2024-07-29T21:00:39.189Z"
   },
   {
    "duration": 86,
    "start_time": "2024-07-29T21:01:05.521Z"
   },
   {
    "duration": 86,
    "start_time": "2024-07-29T21:02:33.081Z"
   },
   {
    "duration": 25,
    "start_time": "2024-07-29T21:09:22.717Z"
   },
   {
    "duration": 29,
    "start_time": "2024-07-29T21:09:28.677Z"
   },
   {
    "duration": 17,
    "start_time": "2024-07-29T21:10:12.015Z"
   },
   {
    "duration": 15,
    "start_time": "2024-07-29T21:10:15.378Z"
   },
   {
    "duration": 23,
    "start_time": "2024-07-29T21:10:19.811Z"
   },
   {
    "duration": 8,
    "start_time": "2024-07-29T21:15:05.583Z"
   },
   {
    "duration": 5207,
    "start_time": "2024-07-30T14:03:24.581Z"
   },
   {
    "duration": 25,
    "start_time": "2024-07-30T14:03:29.792Z"
   },
   {
    "duration": 47,
    "start_time": "2024-07-30T14:03:29.820Z"
   },
   {
    "duration": 41,
    "start_time": "2024-07-30T14:03:29.871Z"
   },
   {
    "duration": 26,
    "start_time": "2024-07-30T14:03:29.918Z"
   },
   {
    "duration": 7,
    "start_time": "2024-07-30T14:03:29.946Z"
   },
   {
    "duration": 9,
    "start_time": "2024-07-30T14:17:26.814Z"
   },
   {
    "duration": 10,
    "start_time": "2024-07-30T14:19:09.855Z"
   },
   {
    "duration": 3,
    "start_time": "2024-07-30T14:19:40.271Z"
   },
   {
    "duration": 189,
    "start_time": "2024-07-30T14:22:55.071Z"
   },
   {
    "duration": 7,
    "start_time": "2024-07-30T14:22:58.554Z"
   },
   {
    "duration": 7,
    "start_time": "2024-07-30T14:25:07.013Z"
   },
   {
    "duration": 6,
    "start_time": "2024-07-30T14:25:38.253Z"
   },
   {
    "duration": 254,
    "start_time": "2024-07-30T14:26:57.497Z"
   },
   {
    "duration": 6,
    "start_time": "2024-07-30T14:27:19.474Z"
   },
   {
    "duration": 7,
    "start_time": "2024-07-30T14:27:28.077Z"
   },
   {
    "duration": 12,
    "start_time": "2024-07-30T14:30:00.526Z"
   },
   {
    "duration": 9,
    "start_time": "2024-07-30T14:31:19.147Z"
   },
   {
    "duration": 9,
    "start_time": "2024-07-30T14:32:57.943Z"
   },
   {
    "duration": 7,
    "start_time": "2024-07-30T14:34:18.862Z"
   },
   {
    "duration": 10,
    "start_time": "2024-07-30T14:41:29.193Z"
   },
   {
    "duration": 17,
    "start_time": "2024-07-30T14:52:03.630Z"
   },
   {
    "duration": 844,
    "start_time": "2024-07-30T15:12:38.010Z"
   },
   {
    "duration": 3,
    "start_time": "2024-07-30T15:15:42.582Z"
   },
   {
    "duration": 26,
    "start_time": "2024-07-30T16:01:15.416Z"
   },
   {
    "duration": 22,
    "start_time": "2024-07-30T16:01:31.676Z"
   },
   {
    "duration": 24,
    "start_time": "2024-07-30T16:01:41.970Z"
   },
   {
    "duration": 23,
    "start_time": "2024-07-30T16:02:31.531Z"
   },
   {
    "duration": 16,
    "start_time": "2024-07-30T16:07:32.407Z"
   },
   {
    "duration": 15,
    "start_time": "2024-07-30T16:07:51.391Z"
   },
   {
    "duration": 82,
    "start_time": "2024-07-30T16:08:12.723Z"
   },
   {
    "duration": 5461,
    "start_time": "2024-07-30T19:48:07.677Z"
   },
   {
    "duration": 35,
    "start_time": "2024-07-30T19:48:13.141Z"
   },
   {
    "duration": 25,
    "start_time": "2024-07-30T19:48:13.179Z"
   },
   {
    "duration": 50,
    "start_time": "2024-07-30T19:48:13.209Z"
   },
   {
    "duration": 23,
    "start_time": "2024-07-30T19:48:13.262Z"
   },
   {
    "duration": 7,
    "start_time": "2024-07-30T19:48:13.288Z"
   },
   {
    "duration": 35,
    "start_time": "2024-07-30T19:48:13.298Z"
   },
   {
    "duration": 10,
    "start_time": "2024-07-30T19:48:13.335Z"
   },
   {
    "duration": 12,
    "start_time": "2024-07-30T19:48:13.347Z"
   },
   {
    "duration": 11,
    "start_time": "2024-07-30T19:48:13.364Z"
   },
   {
    "duration": 8,
    "start_time": "2024-07-30T19:48:13.378Z"
   },
   {
    "duration": 16,
    "start_time": "2024-07-30T19:48:13.430Z"
   },
   {
    "duration": 17,
    "start_time": "2024-07-30T19:48:13.449Z"
   },
   {
    "duration": 888,
    "start_time": "2024-07-30T19:48:13.472Z"
   },
   {
    "duration": 16,
    "start_time": "2024-07-30T19:48:14.363Z"
   },
   {
    "duration": 17,
    "start_time": "2024-07-30T19:58:58.541Z"
   },
   {
    "duration": 253,
    "start_time": "2024-07-30T20:01:46.655Z"
   },
   {
    "duration": 20,
    "start_time": "2024-07-30T20:17:23.518Z"
   },
   {
    "duration": 3,
    "start_time": "2024-07-30T20:18:27.567Z"
   },
   {
    "duration": 9,
    "start_time": "2024-07-30T20:20:19.923Z"
   },
   {
    "duration": 12,
    "start_time": "2024-07-30T20:22:38.915Z"
   },
   {
    "duration": 261,
    "start_time": "2024-07-30T20:26:16.832Z"
   },
   {
    "duration": 5,
    "start_time": "2024-07-30T20:52:46.566Z"
   },
   {
    "duration": 5002,
    "start_time": "2024-07-30T21:43:18.637Z"
   },
   {
    "duration": 30,
    "start_time": "2024-07-30T21:43:23.642Z"
   },
   {
    "duration": 25,
    "start_time": "2024-07-30T21:43:23.675Z"
   },
   {
    "duration": 35,
    "start_time": "2024-07-30T21:43:23.703Z"
   },
   {
    "duration": 22,
    "start_time": "2024-07-30T21:43:23.742Z"
   },
   {
    "duration": 7,
    "start_time": "2024-07-30T21:43:23.768Z"
   },
   {
    "duration": 51,
    "start_time": "2024-07-30T21:43:23.778Z"
   },
   {
    "duration": 8,
    "start_time": "2024-07-30T21:43:23.833Z"
   },
   {
    "duration": 10,
    "start_time": "2024-07-30T21:43:23.844Z"
   },
   {
    "duration": 11,
    "start_time": "2024-07-30T21:43:23.857Z"
   },
   {
    "duration": 56,
    "start_time": "2024-07-30T21:43:23.871Z"
   },
   {
    "duration": 12,
    "start_time": "2024-07-30T21:43:23.930Z"
   },
   {
    "duration": 12,
    "start_time": "2024-07-30T21:43:23.945Z"
   },
   {
    "duration": 871,
    "start_time": "2024-07-30T21:43:23.963Z"
   },
   {
    "duration": 11,
    "start_time": "2024-07-30T21:43:24.837Z"
   },
   {
    "duration": 258,
    "start_time": "2024-07-30T21:43:24.853Z"
   },
   {
    "duration": 18,
    "start_time": "2024-07-30T21:43:25.114Z"
   },
   {
    "duration": 12,
    "start_time": "2024-07-30T21:43:25.134Z"
   },
   {
    "duration": 264,
    "start_time": "2024-07-30T21:43:25.149Z"
   },
   {
    "duration": 26,
    "start_time": "2024-07-30T21:49:57.244Z"
   },
   {
    "duration": 14,
    "start_time": "2024-07-30T21:52:22.633Z"
   },
   {
    "duration": 1531,
    "start_time": "2024-07-30T21:55:59.548Z"
   },
   {
    "duration": 28,
    "start_time": "2024-07-30T21:56:08.093Z"
   },
   {
    "duration": 16,
    "start_time": "2024-07-30T21:56:26.802Z"
   },
   {
    "duration": 290,
    "start_time": "2024-07-30T21:59:47.786Z"
   },
   {
    "duration": 13,
    "start_time": "2024-07-30T21:59:52.405Z"
   },
   {
    "duration": 91,
    "start_time": "2024-07-30T22:01:30.121Z"
   },
   {
    "duration": 28,
    "start_time": "2024-07-30T22:01:35.519Z"
   },
   {
    "duration": 99,
    "start_time": "2024-07-30T22:01:45.146Z"
   },
   {
    "duration": 34,
    "start_time": "2024-07-30T22:01:59.411Z"
   },
   {
    "duration": 94,
    "start_time": "2024-07-30T22:02:16.618Z"
   },
   {
    "duration": 23,
    "start_time": "2024-07-30T22:02:19.434Z"
   },
   {
    "duration": 94,
    "start_time": "2024-07-30T22:05:53.738Z"
   },
   {
    "duration": 77,
    "start_time": "2024-07-30T22:06:28.186Z"
   },
   {
    "duration": 7,
    "start_time": "2024-07-30T22:08:48.562Z"
   },
   {
    "duration": 12,
    "start_time": "2024-07-30T22:08:57.658Z"
   },
   {
    "duration": 13,
    "start_time": "2024-07-30T22:09:30.386Z"
   },
   {
    "duration": 4,
    "start_time": "2024-07-30T22:09:40.052Z"
   },
   {
    "duration": 21,
    "start_time": "2024-07-30T22:09:40.060Z"
   },
   {
    "duration": 21,
    "start_time": "2024-07-30T22:09:40.085Z"
   },
   {
    "duration": 41,
    "start_time": "2024-07-30T22:09:40.109Z"
   },
   {
    "duration": 24,
    "start_time": "2024-07-30T22:09:40.154Z"
   },
   {
    "duration": 7,
    "start_time": "2024-07-30T22:09:40.181Z"
   },
   {
    "duration": 11,
    "start_time": "2024-07-30T22:09:40.228Z"
   },
   {
    "duration": 9,
    "start_time": "2024-07-30T22:09:40.242Z"
   },
   {
    "duration": 9,
    "start_time": "2024-07-30T22:09:40.255Z"
   },
   {
    "duration": 58,
    "start_time": "2024-07-30T22:09:40.268Z"
   },
   {
    "duration": 7,
    "start_time": "2024-07-30T22:09:40.331Z"
   },
   {
    "duration": 14,
    "start_time": "2024-07-30T22:09:40.342Z"
   },
   {
    "duration": 14,
    "start_time": "2024-07-30T22:09:40.358Z"
   },
   {
    "duration": 815,
    "start_time": "2024-07-30T22:09:40.375Z"
   },
   {
    "duration": 12,
    "start_time": "2024-07-30T22:09:41.193Z"
   },
   {
    "duration": 252,
    "start_time": "2024-07-30T22:09:41.227Z"
   },
   {
    "duration": 13,
    "start_time": "2024-07-30T22:09:41.481Z"
   },
   {
    "duration": 33,
    "start_time": "2024-07-30T22:09:41.497Z"
   },
   {
    "duration": 248,
    "start_time": "2024-07-30T22:09:41.533Z"
   },
   {
    "duration": 233,
    "start_time": "2024-07-30T22:09:54.674Z"
   },
   {
    "duration": 27,
    "start_time": "2024-07-30T22:10:03.300Z"
   },
   {
    "duration": 14,
    "start_time": "2024-07-30T22:10:13.955Z"
   },
   {
    "duration": 4849,
    "start_time": "2024-07-30T22:54:38.277Z"
   },
   {
    "duration": 29,
    "start_time": "2024-07-30T22:54:43.129Z"
   },
   {
    "duration": 27,
    "start_time": "2024-07-30T22:54:43.161Z"
   },
   {
    "duration": 48,
    "start_time": "2024-07-30T22:54:43.191Z"
   },
   {
    "duration": 22,
    "start_time": "2024-07-30T22:54:43.244Z"
   },
   {
    "duration": 7,
    "start_time": "2024-07-30T22:54:43.269Z"
   },
   {
    "duration": 48,
    "start_time": "2024-07-30T22:54:43.278Z"
   },
   {
    "duration": 9,
    "start_time": "2024-07-30T22:54:43.329Z"
   },
   {
    "duration": 10,
    "start_time": "2024-07-30T22:54:43.340Z"
   },
   {
    "duration": 11,
    "start_time": "2024-07-30T22:54:43.352Z"
   },
   {
    "duration": 9,
    "start_time": "2024-07-30T22:54:43.366Z"
   },
   {
    "duration": 58,
    "start_time": "2024-07-30T22:54:43.378Z"
   },
   {
    "duration": 13,
    "start_time": "2024-07-30T22:54:43.439Z"
   },
   {
    "duration": 866,
    "start_time": "2024-07-30T22:54:43.460Z"
   },
   {
    "duration": 11,
    "start_time": "2024-07-30T22:54:44.329Z"
   },
   {
    "duration": 276,
    "start_time": "2024-07-30T22:54:44.343Z"
   },
   {
    "duration": 13,
    "start_time": "2024-07-30T22:54:44.626Z"
   },
   {
    "duration": 14,
    "start_time": "2024-07-30T22:54:44.642Z"
   },
   {
    "duration": 274,
    "start_time": "2024-07-30T22:54:44.659Z"
   },
   {
    "duration": 28,
    "start_time": "2024-07-30T22:54:44.935Z"
   },
   {
    "duration": 679,
    "start_time": "2024-07-30T23:04:34.603Z"
   },
   {
    "duration": 48,
    "start_time": "2024-07-30T23:04:47.913Z"
   },
   {
    "duration": 45,
    "start_time": "2024-07-30T23:04:54.789Z"
   },
   {
    "duration": 17,
    "start_time": "2024-07-30T23:05:02.109Z"
   },
   {
    "duration": 874,
    "start_time": "2024-07-30T23:07:08.078Z"
   },
   {
    "duration": 17,
    "start_time": "2024-07-30T23:07:58.580Z"
   },
   {
    "duration": 20,
    "start_time": "2024-07-30T23:08:07.627Z"
   },
   {
    "duration": 26,
    "start_time": "2024-07-30T23:08:11.306Z"
   },
   {
    "duration": 95,
    "start_time": "2024-07-30T23:08:15.109Z"
   },
   {
    "duration": 28,
    "start_time": "2024-07-30T23:08:17.117Z"
   },
   {
    "duration": 90,
    "start_time": "2024-07-30T23:09:00.693Z"
   },
   {
    "duration": 95,
    "start_time": "2024-07-30T23:09:21.975Z"
   },
   {
    "duration": 4,
    "start_time": "2024-07-30T23:09:38.716Z"
   },
   {
    "duration": 20,
    "start_time": "2024-07-30T23:09:38.725Z"
   },
   {
    "duration": 22,
    "start_time": "2024-07-30T23:09:38.748Z"
   },
   {
    "duration": 56,
    "start_time": "2024-07-30T23:09:38.772Z"
   },
   {
    "duration": 23,
    "start_time": "2024-07-30T23:09:38.832Z"
   },
   {
    "duration": 7,
    "start_time": "2024-07-30T23:09:38.857Z"
   },
   {
    "duration": 10,
    "start_time": "2024-07-30T23:09:38.867Z"
   },
   {
    "duration": 51,
    "start_time": "2024-07-30T23:09:38.880Z"
   },
   {
    "duration": 8,
    "start_time": "2024-07-30T23:09:38.934Z"
   },
   {
    "duration": 11,
    "start_time": "2024-07-30T23:09:38.945Z"
   },
   {
    "duration": 7,
    "start_time": "2024-07-30T23:09:38.959Z"
   },
   {
    "duration": 57,
    "start_time": "2024-07-30T23:09:38.969Z"
   },
   {
    "duration": 12,
    "start_time": "2024-07-30T23:09:39.029Z"
   },
   {
    "duration": 826,
    "start_time": "2024-07-30T23:09:39.047Z"
   },
   {
    "duration": 22,
    "start_time": "2024-07-30T23:09:39.876Z"
   },
   {
    "duration": 255,
    "start_time": "2024-07-30T23:09:39.900Z"
   },
   {
    "duration": 15,
    "start_time": "2024-07-30T23:09:40.158Z"
   },
   {
    "duration": 25,
    "start_time": "2024-07-30T23:09:47.892Z"
   },
   {
    "duration": 157,
    "start_time": "2024-07-30T23:10:06.016Z"
   },
   {
    "duration": 14,
    "start_time": "2024-07-30T23:10:14.402Z"
   },
   {
    "duration": 13,
    "start_time": "2024-07-30T23:11:18.820Z"
   },
   {
    "duration": 14,
    "start_time": "2024-07-30T23:12:18.267Z"
   },
   {
    "duration": 15,
    "start_time": "2024-07-30T23:12:25.003Z"
   },
   {
    "duration": 74,
    "start_time": "2024-07-30T23:14:34.022Z"
   },
   {
    "duration": 18,
    "start_time": "2024-07-30T23:14:55.874Z"
   },
   {
    "duration": 15,
    "start_time": "2024-07-30T23:16:31.590Z"
   },
   {
    "duration": 13,
    "start_time": "2024-07-30T23:17:25.012Z"
   },
   {
    "duration": 14,
    "start_time": "2024-07-30T23:18:58.140Z"
   },
   {
    "duration": 231,
    "start_time": "2024-07-30T23:19:34.286Z"
   },
   {
    "duration": 234,
    "start_time": "2024-07-30T23:19:49.998Z"
   },
   {
    "duration": 86,
    "start_time": "2024-07-30T23:24:17.218Z"
   },
   {
    "duration": 84,
    "start_time": "2024-07-30T23:26:55.913Z"
   },
   {
    "duration": 88,
    "start_time": "2024-07-30T23:27:51.406Z"
   },
   {
    "duration": 90,
    "start_time": "2024-07-30T23:28:31.897Z"
   },
   {
    "duration": 79,
    "start_time": "2024-07-30T23:30:13.231Z"
   },
   {
    "duration": 77,
    "start_time": "2024-07-30T23:30:16.732Z"
   },
   {
    "duration": 84,
    "start_time": "2024-07-30T23:30:21.290Z"
   },
   {
    "duration": 11,
    "start_time": "2024-07-30T23:30:26.289Z"
   },
   {
    "duration": 6,
    "start_time": "2024-07-30T23:30:37.795Z"
   },
   {
    "duration": 77,
    "start_time": "2024-07-30T23:30:55.667Z"
   },
   {
    "duration": 11,
    "start_time": "2024-07-30T23:31:04.977Z"
   },
   {
    "duration": 8,
    "start_time": "2024-07-30T23:31:11.790Z"
   },
   {
    "duration": 7,
    "start_time": "2024-07-30T23:31:30.161Z"
   },
   {
    "duration": 30,
    "start_time": "2024-07-30T23:31:39.041Z"
   },
   {
    "duration": 9,
    "start_time": "2024-07-30T23:32:08.607Z"
   },
   {
    "duration": 255,
    "start_time": "2024-07-30T23:33:37.407Z"
   },
   {
    "duration": 12,
    "start_time": "2024-07-30T23:34:21.335Z"
   },
   {
    "duration": 42,
    "start_time": "2024-07-30T23:35:19.865Z"
   },
   {
    "duration": 24,
    "start_time": "2024-07-30T23:40:01.185Z"
   },
   {
    "duration": 86,
    "start_time": "2024-07-30T23:40:52.744Z"
   },
   {
    "duration": 88,
    "start_time": "2024-07-30T23:41:17.816Z"
   },
   {
    "duration": 5,
    "start_time": "2024-07-30T23:41:33.653Z"
   },
   {
    "duration": 18,
    "start_time": "2024-07-30T23:41:33.662Z"
   },
   {
    "duration": 21,
    "start_time": "2024-07-30T23:41:33.683Z"
   },
   {
    "duration": 35,
    "start_time": "2024-07-30T23:41:33.707Z"
   },
   {
    "duration": 26,
    "start_time": "2024-07-30T23:41:33.746Z"
   },
   {
    "duration": 8,
    "start_time": "2024-07-30T23:41:33.775Z"
   },
   {
    "duration": 45,
    "start_time": "2024-07-30T23:41:33.786Z"
   },
   {
    "duration": 9,
    "start_time": "2024-07-30T23:41:33.834Z"
   },
   {
    "duration": 8,
    "start_time": "2024-07-30T23:41:33.845Z"
   },
   {
    "duration": 10,
    "start_time": "2024-07-30T23:41:33.856Z"
   },
   {
    "duration": 7,
    "start_time": "2024-07-30T23:41:33.870Z"
   },
   {
    "duration": 10,
    "start_time": "2024-07-30T23:41:33.927Z"
   },
   {
    "duration": 13,
    "start_time": "2024-07-30T23:41:33.940Z"
   },
   {
    "duration": 819,
    "start_time": "2024-07-30T23:41:33.959Z"
   },
   {
    "duration": 11,
    "start_time": "2024-07-30T23:41:34.782Z"
   },
   {
    "duration": 373,
    "start_time": "2024-07-30T23:41:34.797Z"
   },
   {
    "duration": 18,
    "start_time": "2024-07-30T23:41:35.174Z"
   },
   {
    "duration": 47,
    "start_time": "2024-07-30T23:41:35.195Z"
   },
   {
    "duration": 14,
    "start_time": "2024-07-30T23:41:35.245Z"
   },
   {
    "duration": 18,
    "start_time": "2024-07-30T23:41:35.262Z"
   },
   {
    "duration": 54,
    "start_time": "2024-07-30T23:41:35.283Z"
   },
   {
    "duration": 98,
    "start_time": "2024-07-30T23:41:35.340Z"
   },
   {
    "duration": 9,
    "start_time": "2024-07-30T23:41:39.575Z"
   },
   {
    "duration": 15,
    "start_time": "2024-07-30T23:42:09.832Z"
   },
   {
    "duration": 256,
    "start_time": "2024-07-30T23:42:19.179Z"
   },
   {
    "duration": 227,
    "start_time": "2024-07-30T23:43:19.415Z"
   },
   {
    "duration": 101,
    "start_time": "2024-07-30T23:43:57.417Z"
   },
   {
    "duration": 243,
    "start_time": "2024-07-30T23:45:35.955Z"
   },
   {
    "duration": 27,
    "start_time": "2024-07-30T23:46:02.760Z"
   },
   {
    "duration": 245,
    "start_time": "2024-07-30T23:47:19.938Z"
   },
   {
    "duration": 5097,
    "start_time": "2024-07-31T13:16:50.043Z"
   },
   {
    "duration": 32,
    "start_time": "2024-07-31T13:16:55.144Z"
   },
   {
    "duration": 34,
    "start_time": "2024-07-31T13:16:55.178Z"
   },
   {
    "duration": 32,
    "start_time": "2024-07-31T13:16:55.215Z"
   },
   {
    "duration": 58,
    "start_time": "2024-07-31T13:16:55.251Z"
   },
   {
    "duration": 8,
    "start_time": "2024-07-31T13:16:55.313Z"
   },
   {
    "duration": 11,
    "start_time": "2024-07-31T13:16:55.325Z"
   },
   {
    "duration": 8,
    "start_time": "2024-07-31T13:16:55.339Z"
   },
   {
    "duration": 54,
    "start_time": "2024-07-31T13:16:55.351Z"
   },
   {
    "duration": 11,
    "start_time": "2024-07-31T13:16:55.408Z"
   },
   {
    "duration": 7,
    "start_time": "2024-07-31T13:16:55.422Z"
   },
   {
    "duration": 12,
    "start_time": "2024-07-31T13:16:55.434Z"
   },
   {
    "duration": 61,
    "start_time": "2024-07-31T13:16:55.450Z"
   },
   {
    "duration": 921,
    "start_time": "2024-07-31T13:16:55.517Z"
   },
   {
    "duration": 12,
    "start_time": "2024-07-31T13:16:56.441Z"
   },
   {
    "duration": 271,
    "start_time": "2024-07-31T13:16:56.457Z"
   },
   {
    "duration": 26,
    "start_time": "2024-07-31T13:16:56.732Z"
   },
   {
    "duration": 14,
    "start_time": "2024-07-31T13:16:56.761Z"
   },
   {
    "duration": 19,
    "start_time": "2024-07-31T13:16:56.805Z"
   },
   {
    "duration": 444,
    "start_time": "2024-07-31T13:16:56.827Z"
   },
   {
    "duration": 0,
    "start_time": "2024-07-31T13:16:57.274Z"
   },
   {
    "duration": 0,
    "start_time": "2024-07-31T13:16:57.276Z"
   },
   {
    "duration": 4,
    "start_time": "2024-07-31T13:24:41.973Z"
   },
   {
    "duration": 18,
    "start_time": "2024-07-31T13:39:12.558Z"
   },
   {
    "duration": 241,
    "start_time": "2024-07-31T13:39:19.526Z"
   },
   {
    "duration": 9,
    "start_time": "2024-07-31T14:03:18.562Z"
   },
   {
    "duration": 4,
    "start_time": "2024-07-31T14:03:27.893Z"
   },
   {
    "duration": 446,
    "start_time": "2024-07-31T14:07:54.420Z"
   },
   {
    "duration": 5,
    "start_time": "2024-07-31T14:08:51.835Z"
   },
   {
    "duration": 75,
    "start_time": "2024-07-31T14:08:57.426Z"
   },
   {
    "duration": 90,
    "start_time": "2024-07-31T14:15:13.857Z"
   },
   {
    "duration": 13,
    "start_time": "2024-07-31T14:18:01.149Z"
   },
   {
    "duration": 9,
    "start_time": "2024-07-31T14:18:25.135Z"
   },
   {
    "duration": 75,
    "start_time": "2024-07-31T14:18:33.829Z"
   },
   {
    "duration": 5,
    "start_time": "2024-07-31T14:18:40.673Z"
   },
   {
    "duration": 35,
    "start_time": "2024-07-31T14:18:40.683Z"
   },
   {
    "duration": 27,
    "start_time": "2024-07-31T14:18:40.721Z"
   },
   {
    "duration": 58,
    "start_time": "2024-07-31T14:18:40.752Z"
   },
   {
    "duration": 27,
    "start_time": "2024-07-31T14:18:40.815Z"
   },
   {
    "duration": 9,
    "start_time": "2024-07-31T14:18:40.846Z"
   },
   {
    "duration": 52,
    "start_time": "2024-07-31T14:18:40.860Z"
   },
   {
    "duration": 10,
    "start_time": "2024-07-31T14:18:40.915Z"
   },
   {
    "duration": 11,
    "start_time": "2024-07-31T14:18:40.929Z"
   },
   {
    "duration": 58,
    "start_time": "2024-07-31T14:18:40.943Z"
   },
   {
    "duration": 277,
    "start_time": "2024-07-31T14:18:41.005Z"
   },
   {
    "duration": 0,
    "start_time": "2024-07-31T14:18:41.286Z"
   },
   {
    "duration": 0,
    "start_time": "2024-07-31T14:18:41.288Z"
   },
   {
    "duration": 0,
    "start_time": "2024-07-31T14:18:41.302Z"
   },
   {
    "duration": 0,
    "start_time": "2024-07-31T14:18:41.305Z"
   },
   {
    "duration": 0,
    "start_time": "2024-07-31T14:18:41.307Z"
   },
   {
    "duration": 71,
    "start_time": "2024-07-31T14:18:51.894Z"
   },
   {
    "duration": 153,
    "start_time": "2024-07-31T14:19:14.957Z"
   },
   {
    "duration": 74,
    "start_time": "2024-07-31T14:19:41.566Z"
   },
   {
    "duration": 153,
    "start_time": "2024-07-31T14:21:37.524Z"
   },
   {
    "duration": 81,
    "start_time": "2024-07-31T14:23:13.790Z"
   },
   {
    "duration": 5,
    "start_time": "2024-07-31T14:23:27.640Z"
   },
   {
    "duration": 21,
    "start_time": "2024-07-31T14:23:27.649Z"
   },
   {
    "duration": 25,
    "start_time": "2024-07-31T14:23:27.673Z"
   },
   {
    "duration": 30,
    "start_time": "2024-07-31T14:23:27.702Z"
   },
   {
    "duration": 26,
    "start_time": "2024-07-31T14:23:27.735Z"
   },
   {
    "duration": 41,
    "start_time": "2024-07-31T14:23:27.764Z"
   },
   {
    "duration": 9,
    "start_time": "2024-07-31T14:23:27.810Z"
   },
   {
    "duration": 9,
    "start_time": "2024-07-31T14:23:27.822Z"
   },
   {
    "duration": 8,
    "start_time": "2024-07-31T14:23:27.838Z"
   },
   {
    "duration": 58,
    "start_time": "2024-07-31T14:23:27.849Z"
   },
   {
    "duration": 169,
    "start_time": "2024-07-31T14:23:27.910Z"
   },
   {
    "duration": 0,
    "start_time": "2024-07-31T14:23:28.082Z"
   },
   {
    "duration": 0,
    "start_time": "2024-07-31T14:23:28.084Z"
   },
   {
    "duration": 0,
    "start_time": "2024-07-31T14:23:28.101Z"
   },
   {
    "duration": 1,
    "start_time": "2024-07-31T14:23:28.103Z"
   },
   {
    "duration": 0,
    "start_time": "2024-07-31T14:23:28.106Z"
   },
   {
    "duration": 80,
    "start_time": "2024-07-31T14:23:40.558Z"
   },
   {
    "duration": 9,
    "start_time": "2024-07-31T14:25:02.328Z"
   },
   {
    "duration": 12,
    "start_time": "2024-07-31T14:27:05.382Z"
   },
   {
    "duration": 164,
    "start_time": "2024-07-31T14:29:32.430Z"
   },
   {
    "duration": 11,
    "start_time": "2024-07-31T14:30:13.206Z"
   },
   {
    "duration": 7,
    "start_time": "2024-07-31T14:30:49.671Z"
   },
   {
    "duration": 6,
    "start_time": "2024-07-31T14:32:21.674Z"
   },
   {
    "duration": 19,
    "start_time": "2024-07-31T14:32:21.683Z"
   },
   {
    "duration": 25,
    "start_time": "2024-07-31T14:32:21.705Z"
   },
   {
    "duration": 31,
    "start_time": "2024-07-31T14:32:21.733Z"
   },
   {
    "duration": 26,
    "start_time": "2024-07-31T14:32:21.805Z"
   },
   {
    "duration": 8,
    "start_time": "2024-07-31T14:32:21.834Z"
   },
   {
    "duration": 10,
    "start_time": "2024-07-31T14:32:21.846Z"
   },
   {
    "duration": 50,
    "start_time": "2024-07-31T14:32:21.859Z"
   },
   {
    "duration": 10,
    "start_time": "2024-07-31T14:32:21.911Z"
   },
   {
    "duration": 11,
    "start_time": "2024-07-31T14:32:21.924Z"
   },
   {
    "duration": 210,
    "start_time": "2024-07-31T14:32:21.938Z"
   },
   {
    "duration": 0,
    "start_time": "2024-07-31T14:32:22.152Z"
   },
   {
    "duration": 0,
    "start_time": "2024-07-31T14:32:22.155Z"
   },
   {
    "duration": 0,
    "start_time": "2024-07-31T14:32:22.157Z"
   },
   {
    "duration": 0,
    "start_time": "2024-07-31T14:32:22.159Z"
   },
   {
    "duration": 0,
    "start_time": "2024-07-31T14:32:22.161Z"
   },
   {
    "duration": 8,
    "start_time": "2024-07-31T14:33:35.631Z"
   },
   {
    "duration": 5,
    "start_time": "2024-07-31T14:33:50.633Z"
   },
   {
    "duration": 18,
    "start_time": "2024-07-31T14:33:50.643Z"
   },
   {
    "duration": 24,
    "start_time": "2024-07-31T14:33:50.663Z"
   },
   {
    "duration": 39,
    "start_time": "2024-07-31T14:33:50.690Z"
   },
   {
    "duration": 26,
    "start_time": "2024-07-31T14:33:50.733Z"
   },
   {
    "duration": 45,
    "start_time": "2024-07-31T14:33:50.762Z"
   },
   {
    "duration": 12,
    "start_time": "2024-07-31T14:33:50.811Z"
   },
   {
    "duration": 10,
    "start_time": "2024-07-31T14:33:50.827Z"
   },
   {
    "duration": 9,
    "start_time": "2024-07-31T14:33:50.840Z"
   },
   {
    "duration": 57,
    "start_time": "2024-07-31T14:33:50.853Z"
   },
   {
    "duration": 8,
    "start_time": "2024-07-31T14:33:50.913Z"
   },
   {
    "duration": 12,
    "start_time": "2024-07-31T14:33:50.924Z"
   },
   {
    "duration": 13,
    "start_time": "2024-07-31T14:33:50.940Z"
   },
   {
    "duration": 796,
    "start_time": "2024-07-31T14:33:51.005Z"
   },
   {
    "duration": 12,
    "start_time": "2024-07-31T14:33:51.805Z"
   },
   {
    "duration": 277,
    "start_time": "2024-07-31T14:33:51.820Z"
   },
   {
    "duration": 74,
    "start_time": "2024-07-31T14:34:15.768Z"
   },
   {
    "duration": 11,
    "start_time": "2024-07-31T14:34:37.586Z"
   },
   {
    "duration": 12,
    "start_time": "2024-07-31T14:35:00.571Z"
   },
   {
    "duration": 11,
    "start_time": "2024-07-31T14:35:07.563Z"
   },
   {
    "duration": 11,
    "start_time": "2024-07-31T14:47:52.907Z"
   },
   {
    "duration": 4,
    "start_time": "2024-07-31T14:47:58.048Z"
   },
   {
    "duration": 11,
    "start_time": "2024-07-31T14:49:03.405Z"
   },
   {
    "duration": 19,
    "start_time": "2024-07-31T14:49:12.026Z"
   },
   {
    "duration": 11,
    "start_time": "2024-07-31T14:49:39.767Z"
   },
   {
    "duration": 281,
    "start_time": "2024-07-31T14:57:50.897Z"
   },
   {
    "duration": 448,
    "start_time": "2024-07-31T15:01:26.759Z"
   },
   {
    "duration": 454,
    "start_time": "2024-07-31T15:01:54.587Z"
   },
   {
    "duration": 450,
    "start_time": "2024-07-31T15:02:20.169Z"
   },
   {
    "duration": 4,
    "start_time": "2024-07-31T15:03:33.167Z"
   },
   {
    "duration": 15,
    "start_time": "2024-07-31T15:08:04.344Z"
   },
   {
    "duration": 900,
    "start_time": "2024-07-31T15:12:23.594Z"
   },
   {
    "duration": 19,
    "start_time": "2024-07-31T15:12:49.262Z"
   },
   {
    "duration": 14,
    "start_time": "2024-07-31T15:13:14.503Z"
   },
   {
    "duration": 15,
    "start_time": "2024-07-31T15:13:48.046Z"
   },
   {
    "duration": 15,
    "start_time": "2024-07-31T15:14:01.701Z"
   },
   {
    "duration": 14,
    "start_time": "2024-07-31T15:16:49.637Z"
   },
   {
    "duration": 282,
    "start_time": "2024-07-31T15:20:21.519Z"
   },
   {
    "duration": 284,
    "start_time": "2024-07-31T15:23:58.775Z"
   },
   {
    "duration": 263,
    "start_time": "2024-07-31T15:35:43.233Z"
   },
   {
    "duration": 16,
    "start_time": "2024-07-31T15:41:34.655Z"
   },
   {
    "duration": 4,
    "start_time": "2024-07-31T15:42:05.945Z"
   },
   {
    "duration": 368,
    "start_time": "2024-07-31T15:46:07.979Z"
   },
   {
    "duration": 95,
    "start_time": "2024-07-31T16:02:53.375Z"
   },
   {
    "duration": 10,
    "start_time": "2024-07-31T16:04:02.175Z"
   },
   {
    "duration": 6,
    "start_time": "2024-07-31T16:04:23.192Z"
   },
   {
    "duration": 31,
    "start_time": "2024-07-31T16:05:57.880Z"
   },
   {
    "duration": 6,
    "start_time": "2024-07-31T16:06:14.611Z"
   },
   {
    "duration": 19,
    "start_time": "2024-07-31T16:06:58.985Z"
   },
   {
    "duration": 16,
    "start_time": "2024-07-31T16:07:25.464Z"
   },
   {
    "duration": 1640,
    "start_time": "2024-07-31T16:12:24.648Z"
   },
   {
    "duration": 9,
    "start_time": "2024-07-31T16:15:32.243Z"
   },
   {
    "duration": 271,
    "start_time": "2024-07-31T16:15:55.522Z"
   },
   {
    "duration": 410,
    "start_time": "2024-07-31T16:16:14.722Z"
   },
   {
    "duration": 295,
    "start_time": "2024-07-31T16:33:41.814Z"
   },
   {
    "duration": 443,
    "start_time": "2024-07-31T16:33:53.464Z"
   },
   {
    "duration": 24,
    "start_time": "2024-07-31T16:42:19.444Z"
   },
   {
    "duration": 22,
    "start_time": "2024-07-31T16:42:29.183Z"
   },
   {
    "duration": 276,
    "start_time": "2024-07-31T16:45:46.886Z"
   },
   {
    "duration": 361,
    "start_time": "2024-07-31T16:46:00.005Z"
   },
   {
    "duration": 5009,
    "start_time": "2024-07-31T19:36:08.798Z"
   },
   {
    "duration": 31,
    "start_time": "2024-07-31T19:36:13.810Z"
   },
   {
    "duration": 33,
    "start_time": "2024-07-31T19:36:13.844Z"
   },
   {
    "duration": 30,
    "start_time": "2024-07-31T19:36:13.892Z"
   },
   {
    "duration": 25,
    "start_time": "2024-07-31T19:36:13.927Z"
   },
   {
    "duration": 40,
    "start_time": "2024-07-31T19:36:13.955Z"
   },
   {
    "duration": 11,
    "start_time": "2024-07-31T19:36:13.998Z"
   },
   {
    "duration": 8,
    "start_time": "2024-07-31T19:36:14.012Z"
   },
   {
    "duration": 9,
    "start_time": "2024-07-31T19:36:14.025Z"
   },
   {
    "duration": 59,
    "start_time": "2024-07-31T19:36:14.036Z"
   },
   {
    "duration": 8,
    "start_time": "2024-07-31T19:36:14.098Z"
   },
   {
    "duration": 12,
    "start_time": "2024-07-31T19:36:14.109Z"
   },
   {
    "duration": 13,
    "start_time": "2024-07-31T19:36:14.124Z"
   },
   {
    "duration": 875,
    "start_time": "2024-07-31T19:36:14.144Z"
   },
   {
    "duration": 11,
    "start_time": "2024-07-31T19:36:15.022Z"
   },
   {
    "duration": 255,
    "start_time": "2024-07-31T19:36:15.036Z"
   },
   {
    "duration": 10,
    "start_time": "2024-07-31T19:36:15.294Z"
   },
   {
    "duration": 11,
    "start_time": "2024-07-31T19:36:15.308Z"
   },
   {
    "duration": 453,
    "start_time": "2024-07-31T19:36:15.322Z"
   },
   {
    "duration": 21,
    "start_time": "2024-07-31T19:36:15.779Z"
   },
   {
    "duration": 15,
    "start_time": "2024-07-31T19:36:15.804Z"
   },
   {
    "duration": 332,
    "start_time": "2024-07-31T19:36:15.822Z"
   },
   {
    "duration": 273,
    "start_time": "2024-07-31T19:36:16.158Z"
   },
   {
    "duration": 14,
    "start_time": "2024-07-31T19:36:16.436Z"
   },
   {
    "duration": 381,
    "start_time": "2024-07-31T19:36:16.453Z"
   },
   {
    "duration": 7,
    "start_time": "2024-07-31T19:36:16.838Z"
   },
   {
    "duration": 43,
    "start_time": "2024-07-31T19:36:16.849Z"
   },
   {
    "duration": 369,
    "start_time": "2024-07-31T19:36:16.896Z"
   },
   {
    "duration": 30,
    "start_time": "2024-07-31T19:36:17.269Z"
   },
   {
    "duration": 351,
    "start_time": "2024-07-31T19:36:17.302Z"
   },
   {
    "duration": 808,
    "start_time": "2024-07-31T19:42:06.886Z"
   },
   {
    "duration": 10,
    "start_time": "2024-07-31T19:43:19.072Z"
   },
   {
    "duration": 6,
    "start_time": "2024-07-31T19:43:56.962Z"
   },
   {
    "duration": 9,
    "start_time": "2024-07-31T19:44:21.184Z"
   },
   {
    "duration": 6,
    "start_time": "2024-07-31T19:48:24.290Z"
   },
   {
    "duration": 208,
    "start_time": "2024-07-31T19:50:38.582Z"
   },
   {
    "duration": 115,
    "start_time": "2024-07-31T19:53:22.714Z"
   },
   {
    "duration": 210,
    "start_time": "2024-07-31T19:53:30.238Z"
   },
   {
    "duration": 6,
    "start_time": "2024-07-31T20:01:39.088Z"
   },
   {
    "duration": 7,
    "start_time": "2024-07-31T20:02:03.486Z"
   },
   {
    "duration": 6,
    "start_time": "2024-07-31T20:04:27.235Z"
   },
   {
    "duration": 199,
    "start_time": "2024-07-31T20:14:10.127Z"
   },
   {
    "duration": 220,
    "start_time": "2024-07-31T20:14:29.497Z"
   },
   {
    "duration": 12,
    "start_time": "2024-07-31T20:19:27.739Z"
   },
   {
    "duration": 271,
    "start_time": "2024-07-31T20:19:38.535Z"
   },
   {
    "duration": 194,
    "start_time": "2024-07-31T20:22:33.836Z"
   },
   {
    "duration": 6,
    "start_time": "2024-07-31T20:25:17.182Z"
   },
   {
    "duration": 909,
    "start_time": "2024-07-31T20:32:02.927Z"
   },
   {
    "duration": 5,
    "start_time": "2024-07-31T20:34:03.804Z"
   },
   {
    "duration": 9,
    "start_time": "2024-07-31T20:35:04.871Z"
   },
   {
    "duration": 221,
    "start_time": "2024-07-31T20:36:03.792Z"
   },
   {
    "duration": 215,
    "start_time": "2024-07-31T20:36:45.056Z"
   },
   {
    "duration": 5,
    "start_time": "2024-07-31T20:42:14.860Z"
   },
   {
    "duration": 5003,
    "start_time": "2024-07-31T23:22:45.177Z"
   },
   {
    "duration": 24,
    "start_time": "2024-07-31T23:22:50.184Z"
   },
   {
    "duration": 26,
    "start_time": "2024-07-31T23:22:50.211Z"
   },
   {
    "duration": 49,
    "start_time": "2024-07-31T23:22:50.240Z"
   },
   {
    "duration": 24,
    "start_time": "2024-07-31T23:22:50.295Z"
   },
   {
    "duration": 7,
    "start_time": "2024-07-31T23:22:50.322Z"
   },
   {
    "duration": 11,
    "start_time": "2024-07-31T23:22:50.368Z"
   },
   {
    "duration": 8,
    "start_time": "2024-07-31T23:22:50.382Z"
   },
   {
    "duration": 9,
    "start_time": "2024-07-31T23:22:50.393Z"
   },
   {
    "duration": 11,
    "start_time": "2024-07-31T23:22:50.404Z"
   },
   {
    "duration": 52,
    "start_time": "2024-07-31T23:22:50.418Z"
   },
   {
    "duration": 12,
    "start_time": "2024-07-31T23:22:50.473Z"
   },
   {
    "duration": 12,
    "start_time": "2024-07-31T23:22:50.488Z"
   },
   {
    "duration": 883,
    "start_time": "2024-07-31T23:22:50.509Z"
   },
   {
    "duration": 11,
    "start_time": "2024-07-31T23:22:51.395Z"
   },
   {
    "duration": 247,
    "start_time": "2024-07-31T23:22:51.409Z"
   },
   {
    "duration": 16,
    "start_time": "2024-07-31T23:22:51.659Z"
   },
   {
    "duration": 11,
    "start_time": "2024-07-31T23:22:51.678Z"
   },
   {
    "duration": 439,
    "start_time": "2024-07-31T23:22:51.692Z"
   },
   {
    "duration": 14,
    "start_time": "2024-07-31T23:22:52.134Z"
   },
   {
    "duration": 15,
    "start_time": "2024-07-31T23:22:52.168Z"
   },
   {
    "duration": 315,
    "start_time": "2024-07-31T23:22:52.185Z"
   },
   {
    "duration": 268,
    "start_time": "2024-07-31T23:22:52.504Z"
   },
   {
    "duration": 13,
    "start_time": "2024-07-31T23:22:52.776Z"
   },
   {
    "duration": 351,
    "start_time": "2024-07-31T23:22:52.792Z"
   },
   {
    "duration": 7,
    "start_time": "2024-07-31T23:22:53.148Z"
   },
   {
    "duration": 16,
    "start_time": "2024-07-31T23:22:53.169Z"
   },
   {
    "duration": 363,
    "start_time": "2024-07-31T23:22:53.188Z"
   },
   {
    "duration": 28,
    "start_time": "2024-07-31T23:22:53.554Z"
   },
   {
    "duration": 348,
    "start_time": "2024-07-31T23:22:53.585Z"
   },
   {
    "duration": 240,
    "start_time": "2024-07-31T23:22:53.937Z"
   },
   {
    "duration": 213,
    "start_time": "2024-07-31T23:22:54.180Z"
   },
   {
    "duration": 6,
    "start_time": "2024-07-31T23:22:54.396Z"
   },
   {
    "duration": 8,
    "start_time": "2024-07-31T23:22:54.407Z"
   },
   {
    "duration": 6,
    "start_time": "2024-07-31T23:22:54.419Z"
   },
   {
    "duration": 242,
    "start_time": "2024-07-31T23:22:54.428Z"
   },
   {
    "duration": 223,
    "start_time": "2024-07-31T23:22:54.673Z"
   },
   {
    "duration": 6,
    "start_time": "2024-07-31T23:22:54.899Z"
   },
   {
    "duration": 402,
    "start_time": "2024-07-31T23:30:12.654Z"
   },
   {
    "duration": 30,
    "start_time": "2024-07-31T23:30:20.373Z"
   },
   {
    "duration": 4,
    "start_time": "2024-07-31T23:30:28.143Z"
   },
   {
    "duration": 17,
    "start_time": "2024-07-31T23:30:28.152Z"
   },
   {
    "duration": 30,
    "start_time": "2024-07-31T23:30:28.172Z"
   },
   {
    "duration": 66,
    "start_time": "2024-07-31T23:30:28.206Z"
   },
   {
    "duration": 32,
    "start_time": "2024-07-31T23:30:28.278Z"
   },
   {
    "duration": 8,
    "start_time": "2024-07-31T23:30:28.313Z"
   },
   {
    "duration": 46,
    "start_time": "2024-07-31T23:30:28.325Z"
   },
   {
    "duration": 9,
    "start_time": "2024-07-31T23:30:28.375Z"
   },
   {
    "duration": 9,
    "start_time": "2024-07-31T23:30:28.388Z"
   },
   {
    "duration": 11,
    "start_time": "2024-07-31T23:30:28.401Z"
   },
   {
    "duration": 55,
    "start_time": "2024-07-31T23:30:28.415Z"
   },
   {
    "duration": 14,
    "start_time": "2024-07-31T23:30:28.473Z"
   },
   {
    "duration": 13,
    "start_time": "2024-07-31T23:30:28.490Z"
   },
   {
    "duration": 828,
    "start_time": "2024-07-31T23:30:28.509Z"
   },
   {
    "duration": 11,
    "start_time": "2024-07-31T23:30:29.339Z"
   },
   {
    "duration": 268,
    "start_time": "2024-07-31T23:30:29.369Z"
   },
   {
    "duration": 11,
    "start_time": "2024-07-31T23:30:29.640Z"
   },
   {
    "duration": 10,
    "start_time": "2024-07-31T23:30:29.667Z"
   },
   {
    "duration": 503,
    "start_time": "2024-07-31T23:30:29.680Z"
   },
   {
    "duration": 15,
    "start_time": "2024-07-31T23:30:30.186Z"
   },
   {
    "duration": 14,
    "start_time": "2024-07-31T23:30:30.204Z"
   },
   {
    "duration": 319,
    "start_time": "2024-07-31T23:30:30.221Z"
   },
   {
    "duration": 273,
    "start_time": "2024-07-31T23:30:30.543Z"
   },
   {
    "duration": 14,
    "start_time": "2024-07-31T23:30:30.819Z"
   },
   {
    "duration": 365,
    "start_time": "2024-07-31T23:30:30.836Z"
   },
   {
    "duration": 7,
    "start_time": "2024-07-31T23:30:31.204Z"
   },
   {
    "duration": 16,
    "start_time": "2024-07-31T23:30:31.215Z"
   },
   {
    "duration": 312,
    "start_time": "2024-07-31T23:30:31.234Z"
   },
   {
    "duration": 29,
    "start_time": "2024-07-31T23:30:31.549Z"
   },
   {
    "duration": 351,
    "start_time": "2024-07-31T23:30:31.583Z"
   },
   {
    "duration": 201,
    "start_time": "2024-07-31T23:30:31.937Z"
   },
   {
    "duration": 206,
    "start_time": "2024-07-31T23:30:32.141Z"
   },
   {
    "duration": 5,
    "start_time": "2024-07-31T23:30:32.352Z"
   },
   {
    "duration": 8,
    "start_time": "2024-07-31T23:30:32.369Z"
   },
   {
    "duration": 6,
    "start_time": "2024-07-31T23:30:32.382Z"
   },
   {
    "duration": 250,
    "start_time": "2024-07-31T23:30:32.392Z"
   },
   {
    "duration": 209,
    "start_time": "2024-07-31T23:30:32.645Z"
   },
   {
    "duration": 14,
    "start_time": "2024-07-31T23:30:32.857Z"
   },
   {
    "duration": 29,
    "start_time": "2024-07-31T23:34:19.994Z"
   },
   {
    "duration": 9,
    "start_time": "2024-07-31T23:39:40.832Z"
   },
   {
    "duration": 6,
    "start_time": "2024-07-31T23:39:55.064Z"
   },
   {
    "duration": 28,
    "start_time": "2024-07-31T23:40:05.964Z"
   },
   {
    "duration": 26,
    "start_time": "2024-07-31T23:40:42.296Z"
   },
   {
    "duration": 4,
    "start_time": "2024-07-31T23:40:56.787Z"
   },
   {
    "duration": 20,
    "start_time": "2024-07-31T23:40:56.795Z"
   },
   {
    "duration": 22,
    "start_time": "2024-07-31T23:40:56.817Z"
   },
   {
    "duration": 52,
    "start_time": "2024-07-31T23:40:56.841Z"
   },
   {
    "duration": 23,
    "start_time": "2024-07-31T23:40:56.898Z"
   },
   {
    "duration": 48,
    "start_time": "2024-07-31T23:40:56.925Z"
   },
   {
    "duration": 9,
    "start_time": "2024-07-31T23:40:56.976Z"
   },
   {
    "duration": 8,
    "start_time": "2024-07-31T23:40:56.988Z"
   },
   {
    "duration": 7,
    "start_time": "2024-07-31T23:40:56.999Z"
   },
   {
    "duration": 11,
    "start_time": "2024-07-31T23:40:57.009Z"
   },
   {
    "duration": 8,
    "start_time": "2024-07-31T23:40:57.069Z"
   },
   {
    "duration": 13,
    "start_time": "2024-07-31T23:40:57.079Z"
   },
   {
    "duration": 12,
    "start_time": "2024-07-31T23:40:57.095Z"
   },
   {
    "duration": 845,
    "start_time": "2024-07-31T23:40:57.114Z"
   },
   {
    "duration": 12,
    "start_time": "2024-07-31T23:40:57.975Z"
   },
   {
    "duration": 287,
    "start_time": "2024-07-31T23:40:57.990Z"
   },
   {
    "duration": 13,
    "start_time": "2024-07-31T23:40:58.281Z"
   },
   {
    "duration": 12,
    "start_time": "2024-07-31T23:40:58.298Z"
   },
   {
    "duration": 464,
    "start_time": "2024-07-31T23:40:58.313Z"
   },
   {
    "duration": 16,
    "start_time": "2024-07-31T23:40:58.782Z"
   },
   {
    "duration": 16,
    "start_time": "2024-07-31T23:40:58.801Z"
   },
   {
    "duration": 327,
    "start_time": "2024-07-31T23:40:58.820Z"
   },
   {
    "duration": 281,
    "start_time": "2024-07-31T23:40:59.150Z"
   },
   {
    "duration": 13,
    "start_time": "2024-07-31T23:40:59.434Z"
   },
   {
    "duration": 342,
    "start_time": "2024-07-31T23:40:59.469Z"
   },
   {
    "duration": 9,
    "start_time": "2024-07-31T23:40:59.814Z"
   },
   {
    "duration": 18,
    "start_time": "2024-07-31T23:40:59.825Z"
   },
   {
    "duration": 281,
    "start_time": "2024-07-31T23:40:59.867Z"
   },
   {
    "duration": 27,
    "start_time": "2024-07-31T23:41:00.151Z"
   },
   {
    "duration": 343,
    "start_time": "2024-07-31T23:41:00.181Z"
   },
   {
    "duration": 199,
    "start_time": "2024-07-31T23:41:00.527Z"
   },
   {
    "duration": 310,
    "start_time": "2024-07-31T23:41:00.730Z"
   },
   {
    "duration": 7,
    "start_time": "2024-07-31T23:41:01.043Z"
   },
   {
    "duration": 9,
    "start_time": "2024-07-31T23:41:01.069Z"
   },
   {
    "duration": 6,
    "start_time": "2024-07-31T23:41:01.082Z"
   },
   {
    "duration": 226,
    "start_time": "2024-07-31T23:41:01.091Z"
   },
   {
    "duration": 220,
    "start_time": "2024-07-31T23:41:01.320Z"
   },
   {
    "duration": 8,
    "start_time": "2024-07-31T23:41:01.544Z"
   },
   {
    "duration": 27,
    "start_time": "2024-07-31T23:41:09.526Z"
   },
   {
    "duration": 113,
    "start_time": "2024-07-31T23:43:29.125Z"
   },
   {
    "duration": 236,
    "start_time": "2024-07-31T23:44:17.184Z"
   },
   {
    "duration": 218,
    "start_time": "2024-07-31T23:44:36.462Z"
   },
   {
    "duration": 249,
    "start_time": "2024-07-31T23:44:47.263Z"
   },
   {
    "duration": 6,
    "start_time": "2024-07-31T23:51:09.584Z"
   },
   {
    "duration": 10,
    "start_time": "2024-07-31T23:51:57.596Z"
   },
   {
    "duration": 225,
    "start_time": "2024-07-31T23:53:48.035Z"
   },
   {
    "duration": 12,
    "start_time": "2024-07-31T23:53:48.947Z"
   },
   {
    "duration": 209,
    "start_time": "2024-07-31T23:54:02.191Z"
   },
   {
    "duration": 10,
    "start_time": "2024-07-31T23:54:02.916Z"
   },
   {
    "duration": 5,
    "start_time": "2024-07-31T23:54:56.514Z"
   },
   {
    "duration": 19,
    "start_time": "2024-07-31T23:54:56.523Z"
   },
   {
    "duration": 26,
    "start_time": "2024-07-31T23:54:56.545Z"
   },
   {
    "duration": 30,
    "start_time": "2024-07-31T23:54:56.574Z"
   },
   {
    "duration": 58,
    "start_time": "2024-07-31T23:54:56.609Z"
   },
   {
    "duration": 8,
    "start_time": "2024-07-31T23:54:56.670Z"
   },
   {
    "duration": 11,
    "start_time": "2024-07-31T23:54:56.681Z"
   },
   {
    "duration": 9,
    "start_time": "2024-07-31T23:54:56.695Z"
   },
   {
    "duration": 7,
    "start_time": "2024-07-31T23:54:56.708Z"
   },
   {
    "duration": 11,
    "start_time": "2024-07-31T23:54:56.767Z"
   },
   {
    "duration": 7,
    "start_time": "2024-07-31T23:54:56.781Z"
   },
   {
    "duration": 11,
    "start_time": "2024-07-31T23:54:56.792Z"
   },
   {
    "duration": 12,
    "start_time": "2024-07-31T23:54:56.810Z"
   },
   {
    "duration": 799,
    "start_time": "2024-07-31T23:54:56.869Z"
   },
   {
    "duration": 11,
    "start_time": "2024-07-31T23:54:57.672Z"
   },
   {
    "duration": 292,
    "start_time": "2024-07-31T23:54:57.686Z"
   },
   {
    "duration": 10,
    "start_time": "2024-07-31T23:54:57.982Z"
   },
   {
    "duration": 12,
    "start_time": "2024-07-31T23:54:57.997Z"
   },
   {
    "duration": 488,
    "start_time": "2024-07-31T23:54:58.013Z"
   },
   {
    "duration": 14,
    "start_time": "2024-07-31T23:54:58.504Z"
   },
   {
    "duration": 15,
    "start_time": "2024-07-31T23:54:58.521Z"
   },
   {
    "duration": 302,
    "start_time": "2024-07-31T23:54:58.568Z"
   },
   {
    "duration": 291,
    "start_time": "2024-07-31T23:54:58.873Z"
   },
   {
    "duration": 14,
    "start_time": "2024-07-31T23:54:59.169Z"
   },
   {
    "duration": 339,
    "start_time": "2024-07-31T23:54:59.187Z"
   },
   {
    "duration": 7,
    "start_time": "2024-07-31T23:54:59.529Z"
   },
   {
    "duration": 34,
    "start_time": "2024-07-31T23:54:59.539Z"
   },
   {
    "duration": 283,
    "start_time": "2024-07-31T23:54:59.576Z"
   },
   {
    "duration": 20,
    "start_time": "2024-07-31T23:54:59.869Z"
   },
   {
    "duration": 378,
    "start_time": "2024-07-31T23:54:59.892Z"
   },
   {
    "duration": 229,
    "start_time": "2024-07-31T23:55:00.273Z"
   },
   {
    "duration": 216,
    "start_time": "2024-07-31T23:55:00.504Z"
   },
   {
    "duration": 6,
    "start_time": "2024-07-31T23:55:00.723Z"
   },
   {
    "duration": 9,
    "start_time": "2024-07-31T23:55:00.733Z"
   },
   {
    "duration": 27,
    "start_time": "2024-07-31T23:55:00.744Z"
   },
   {
    "duration": 226,
    "start_time": "2024-07-31T23:55:00.775Z"
   },
   {
    "duration": 211,
    "start_time": "2024-07-31T23:55:01.009Z"
   },
   {
    "duration": 7,
    "start_time": "2024-07-31T23:55:01.223Z"
   },
   {
    "duration": 252,
    "start_time": "2024-07-31T23:55:01.233Z"
   },
   {
    "duration": 12,
    "start_time": "2024-07-31T23:55:01.488Z"
   },
   {
    "duration": 11,
    "start_time": "2024-07-31T23:56:42.758Z"
   },
   {
    "duration": 10,
    "start_time": "2024-08-01T00:04:08.920Z"
   },
   {
    "duration": 27,
    "start_time": "2024-08-01T00:07:12.814Z"
   },
   {
    "duration": 5,
    "start_time": "2024-08-01T00:08:08.625Z"
   },
   {
    "duration": 32,
    "start_time": "2024-08-01T00:08:13.175Z"
   },
   {
    "duration": 14,
    "start_time": "2024-08-01T00:22:13.349Z"
   },
   {
    "duration": 4824,
    "start_time": "2024-08-01T13:36:54.875Z"
   },
   {
    "duration": 33,
    "start_time": "2024-08-01T13:36:59.703Z"
   },
   {
    "duration": 27,
    "start_time": "2024-08-01T13:36:59.740Z"
   },
   {
    "duration": 53,
    "start_time": "2024-08-01T13:36:59.770Z"
   },
   {
    "duration": 24,
    "start_time": "2024-08-01T13:36:59.827Z"
   },
   {
    "duration": 7,
    "start_time": "2024-08-01T13:36:59.855Z"
   },
   {
    "duration": 10,
    "start_time": "2024-08-01T13:36:59.865Z"
   },
   {
    "duration": 52,
    "start_time": "2024-08-01T13:36:59.878Z"
   },
   {
    "duration": 10,
    "start_time": "2024-08-01T13:36:59.933Z"
   },
   {
    "duration": 9,
    "start_time": "2024-08-01T13:36:59.946Z"
   },
   {
    "duration": 7,
    "start_time": "2024-08-01T13:36:59.958Z"
   },
   {
    "duration": 64,
    "start_time": "2024-08-01T13:36:59.969Z"
   },
   {
    "duration": 13,
    "start_time": "2024-08-01T13:37:00.036Z"
   },
   {
    "duration": 872,
    "start_time": "2024-08-01T13:37:00.055Z"
   },
   {
    "duration": 10,
    "start_time": "2024-08-01T13:37:00.931Z"
   },
   {
    "duration": 269,
    "start_time": "2024-08-01T13:37:00.944Z"
   },
   {
    "duration": 11,
    "start_time": "2024-08-01T13:37:01.224Z"
   },
   {
    "duration": 11,
    "start_time": "2024-08-01T13:37:01.239Z"
   },
   {
    "duration": 434,
    "start_time": "2024-08-01T13:37:01.253Z"
   },
   {
    "duration": 15,
    "start_time": "2024-08-01T13:37:01.689Z"
   },
   {
    "duration": 15,
    "start_time": "2024-08-01T13:37:01.723Z"
   },
   {
    "duration": 300,
    "start_time": "2024-08-01T13:37:01.741Z"
   },
   {
    "duration": 267,
    "start_time": "2024-08-01T13:37:02.045Z"
   },
   {
    "duration": 14,
    "start_time": "2024-08-01T13:37:02.324Z"
   },
   {
    "duration": 333,
    "start_time": "2024-08-01T13:37:02.342Z"
   },
   {
    "duration": 7,
    "start_time": "2024-08-01T13:37:02.678Z"
   },
   {
    "duration": 15,
    "start_time": "2024-08-01T13:37:02.688Z"
   },
   {
    "duration": 278,
    "start_time": "2024-08-01T13:37:02.724Z"
   },
   {
    "duration": 26,
    "start_time": "2024-08-01T13:37:03.005Z"
   },
   {
    "duration": 349,
    "start_time": "2024-08-01T13:37:03.034Z"
   },
   {
    "duration": 208,
    "start_time": "2024-08-01T13:37:03.386Z"
   },
   {
    "duration": 4,
    "start_time": "2024-08-01T13:42:02.020Z"
   },
   {
    "duration": 21,
    "start_time": "2024-08-01T13:42:02.029Z"
   },
   {
    "duration": 22,
    "start_time": "2024-08-01T13:42:02.053Z"
   },
   {
    "duration": 61,
    "start_time": "2024-08-01T13:42:02.078Z"
   },
   {
    "duration": 23,
    "start_time": "2024-08-01T13:42:02.145Z"
   },
   {
    "duration": 7,
    "start_time": "2024-08-01T13:42:02.171Z"
   },
   {
    "duration": 11,
    "start_time": "2024-08-01T13:42:02.223Z"
   },
   {
    "duration": 10,
    "start_time": "2024-08-01T13:42:02.236Z"
   },
   {
    "duration": 7,
    "start_time": "2024-08-01T13:42:02.249Z"
   },
   {
    "duration": 11,
    "start_time": "2024-08-01T13:42:02.261Z"
   },
   {
    "duration": 50,
    "start_time": "2024-08-01T13:42:02.275Z"
   },
   {
    "duration": 12,
    "start_time": "2024-08-01T13:42:02.329Z"
   },
   {
    "duration": 12,
    "start_time": "2024-08-01T13:42:02.347Z"
   },
   {
    "duration": 871,
    "start_time": "2024-08-01T13:42:02.367Z"
   },
   {
    "duration": 12,
    "start_time": "2024-08-01T13:42:03.242Z"
   },
   {
    "duration": 263,
    "start_time": "2024-08-01T13:42:03.260Z"
   },
   {
    "duration": 11,
    "start_time": "2024-08-01T13:42:03.526Z"
   },
   {
    "duration": 11,
    "start_time": "2024-08-01T13:42:03.540Z"
   },
   {
    "duration": 442,
    "start_time": "2024-08-01T13:42:03.554Z"
   },
   {
    "duration": 25,
    "start_time": "2024-08-01T13:42:03.999Z"
   },
   {
    "duration": 15,
    "start_time": "2024-08-01T13:42:04.027Z"
   },
   {
    "duration": 304,
    "start_time": "2024-08-01T13:42:04.044Z"
   },
   {
    "duration": 272,
    "start_time": "2024-08-01T13:42:04.352Z"
   },
   {
    "duration": 14,
    "start_time": "2024-08-01T13:42:04.627Z"
   },
   {
    "duration": 335,
    "start_time": "2024-08-01T13:42:04.643Z"
   },
   {
    "duration": 9,
    "start_time": "2024-08-01T13:42:04.981Z"
   },
   {
    "duration": 36,
    "start_time": "2024-08-01T13:42:04.993Z"
   },
   {
    "duration": 284,
    "start_time": "2024-08-01T13:42:05.033Z"
   },
   {
    "duration": 19,
    "start_time": "2024-08-01T13:42:05.324Z"
   },
   {
    "duration": 397,
    "start_time": "2024-08-01T13:42:05.347Z"
   },
   {
    "duration": 245,
    "start_time": "2024-08-01T13:42:05.747Z"
   },
   {
    "duration": 217,
    "start_time": "2024-08-01T13:42:05.995Z"
   },
   {
    "duration": 10,
    "start_time": "2024-08-01T13:42:06.215Z"
   },
   {
    "duration": 10,
    "start_time": "2024-08-01T13:42:06.228Z"
   },
   {
    "duration": 6,
    "start_time": "2024-08-01T13:42:06.240Z"
   },
   {
    "duration": 230,
    "start_time": "2024-08-01T13:42:06.249Z"
   },
   {
    "duration": 213,
    "start_time": "2024-08-01T13:42:06.483Z"
   },
   {
    "duration": 6,
    "start_time": "2024-08-01T13:42:06.700Z"
   },
   {
    "duration": 5,
    "start_time": "2024-08-01T13:42:48.253Z"
   },
   {
    "duration": 17,
    "start_time": "2024-08-01T13:42:48.263Z"
   },
   {
    "duration": 22,
    "start_time": "2024-08-01T13:42:48.282Z"
   },
   {
    "duration": 39,
    "start_time": "2024-08-01T13:42:48.307Z"
   },
   {
    "duration": 27,
    "start_time": "2024-08-01T13:42:48.352Z"
   },
   {
    "duration": 44,
    "start_time": "2024-08-01T13:42:48.382Z"
   },
   {
    "duration": 10,
    "start_time": "2024-08-01T13:42:48.429Z"
   },
   {
    "duration": 8,
    "start_time": "2024-08-01T13:42:48.441Z"
   },
   {
    "duration": 8,
    "start_time": "2024-08-01T13:42:48.453Z"
   },
   {
    "duration": 60,
    "start_time": "2024-08-01T13:42:48.464Z"
   },
   {
    "duration": 7,
    "start_time": "2024-08-01T13:42:48.527Z"
   },
   {
    "duration": 11,
    "start_time": "2024-08-01T13:42:48.537Z"
   },
   {
    "duration": 11,
    "start_time": "2024-08-01T13:42:48.555Z"
   },
   {
    "duration": 813,
    "start_time": "2024-08-01T13:42:48.569Z"
   },
   {
    "duration": 12,
    "start_time": "2024-08-01T13:42:49.387Z"
   },
   {
    "duration": 271,
    "start_time": "2024-08-01T13:42:49.403Z"
   },
   {
    "duration": 10,
    "start_time": "2024-08-01T13:42:49.677Z"
   },
   {
    "duration": 38,
    "start_time": "2024-08-01T13:42:49.691Z"
   },
   {
    "duration": 414,
    "start_time": "2024-08-01T13:42:49.735Z"
   },
   {
    "duration": 13,
    "start_time": "2024-08-01T13:42:50.153Z"
   },
   {
    "duration": 15,
    "start_time": "2024-08-01T13:42:50.170Z"
   },
   {
    "duration": 340,
    "start_time": "2024-08-01T13:42:50.188Z"
   },
   {
    "duration": 360,
    "start_time": "2024-08-01T13:42:50.532Z"
   },
   {
    "duration": 14,
    "start_time": "2024-08-01T13:42:50.894Z"
   },
   {
    "duration": 360,
    "start_time": "2024-08-01T13:42:50.924Z"
   },
   {
    "duration": 8,
    "start_time": "2024-08-01T13:42:51.287Z"
   },
   {
    "duration": 36,
    "start_time": "2024-08-01T13:42:51.298Z"
   },
   {
    "duration": 289,
    "start_time": "2024-08-01T13:42:51.337Z"
   },
   {
    "duration": 20,
    "start_time": "2024-08-01T13:42:51.629Z"
   },
   {
    "duration": 395,
    "start_time": "2024-08-01T13:42:51.652Z"
   },
   {
    "duration": 241,
    "start_time": "2024-08-01T13:42:52.050Z"
   },
   {
    "duration": 209,
    "start_time": "2024-08-01T13:42:52.294Z"
   },
   {
    "duration": 6,
    "start_time": "2024-08-01T13:42:52.506Z"
   },
   {
    "duration": 9,
    "start_time": "2024-08-01T13:42:52.525Z"
   },
   {
    "duration": 7,
    "start_time": "2024-08-01T13:42:52.537Z"
   },
   {
    "duration": 227,
    "start_time": "2024-08-01T13:42:52.547Z"
   },
   {
    "duration": 211,
    "start_time": "2024-08-01T13:42:52.782Z"
   },
   {
    "duration": 6,
    "start_time": "2024-08-01T13:42:52.997Z"
   },
   {
    "duration": 229,
    "start_time": "2024-08-01T13:42:53.022Z"
   },
   {
    "duration": 11,
    "start_time": "2024-08-01T13:42:53.254Z"
   },
   {
    "duration": 57,
    "start_time": "2024-08-01T13:42:53.268Z"
   },
   {
    "duration": 16,
    "start_time": "2024-08-01T13:42:53.328Z"
   },
   {
    "duration": 10,
    "start_time": "2024-08-01T13:48:08.485Z"
   },
   {
    "duration": 392,
    "start_time": "2024-08-01T13:54:27.985Z"
   },
   {
    "duration": 216,
    "start_time": "2024-08-01T14:04:54.290Z"
   },
   {
    "duration": 238,
    "start_time": "2024-08-01T14:05:44.212Z"
   },
   {
    "duration": 184,
    "start_time": "2024-08-01T14:07:54.768Z"
   },
   {
    "duration": 15,
    "start_time": "2024-08-01T14:15:34.767Z"
   },
   {
    "duration": 13,
    "start_time": "2024-08-01T14:25:15.606Z"
   },
   {
    "duration": 14,
    "start_time": "2024-08-01T14:26:15.130Z"
   },
   {
    "duration": 11,
    "start_time": "2024-08-01T14:26:27.922Z"
   },
   {
    "duration": 3,
    "start_time": "2024-08-01T14:26:38.558Z"
   },
   {
    "duration": 31,
    "start_time": "2024-08-01T14:28:20.177Z"
   },
   {
    "duration": 18,
    "start_time": "2024-08-01T14:40:57.344Z"
   }
  ],
  "kernelspec": {
   "display_name": "Python 3 (ipykernel)",
   "language": "python",
   "name": "python3"
  },
  "language_info": {
   "codemirror_mode": {
    "name": "ipython",
    "version": 3
   },
   "file_extension": ".py",
   "mimetype": "text/x-python",
   "name": "python",
   "nbconvert_exporter": "python",
   "pygments_lexer": "ipython3",
   "version": "3.9.19"
  },
  "toc": {
   "base_numbering": 1,
   "nav_menu": {},
   "number_sections": true,
   "sideBar": true,
   "skip_h1_title": true,
   "title_cell": "Table of Contents",
   "title_sidebar": "Contents",
   "toc_cell": false,
   "toc_position": {},
   "toc_section_display": true,
   "toc_window_display": false
  }
 },
 "nbformat": 4,
 "nbformat_minor": 2
}
